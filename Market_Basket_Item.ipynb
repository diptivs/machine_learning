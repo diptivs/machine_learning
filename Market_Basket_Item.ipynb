{
  "nbformat": 4,
  "nbformat_minor": 0,
  "metadata": {
    "colab": {
      "name": "Market Basket Item",
      "provenance": [],
      "collapsed_sections": [],
      "include_colab_link": true
    },
    "kernelspec": {
      "name": "python3",
      "display_name": "Python 3"
    }
  },
  "cells": [
    {
      "cell_type": "markdown",
      "metadata": {
        "id": "view-in-github",
        "colab_type": "text"
      },
      "source": [
        "<a href=\"https://colab.research.google.com/github/diptivs/machine_learning/blob/master/Market_Basket_Item.ipynb\" target=\"_parent\"><img src=\"https://colab.research.google.com/assets/colab-badge.svg\" alt=\"Open In Colab\"/></a>"
      ]
    },
    {
      "cell_type": "markdown",
      "metadata": {
        "id": "_3_eOrEJikib",
        "colab_type": "text"
      },
      "source": [
        "##1. Load test and train data"
      ]
    },
    {
      "cell_type": "code",
      "metadata": {
        "id": "_VF9QFQ0dLYC",
        "colab_type": "code",
        "outputId": "4533132d-49e4-40cd-c19d-4ad551524d38",
        "colab": {
          "base_uri": "https://localhost:8080/",
          "height": 111
        }
      },
      "source": [
        "import pandas as pd\n",
        "# Setup google auth\n",
        "!pip install -U -q PyDrive\n",
        "from pydrive.auth import GoogleAuth\n",
        "from pydrive.drive import GoogleDrive\n",
        "from google.colab import auth\n",
        "from oauth2client.client import GoogleCredentials\n",
        "# Authenticate and create the PyDrive client.\n",
        "auth.authenticate_user()\n",
        "gauth = GoogleAuth()\n",
        "gauth.credentials = GoogleCredentials.get_application_default()\n",
        "drive = GoogleDrive(gauth)\n",
        "\n",
        "# load the file\n",
        "#https://drive.google.com/file/d/15unl1fPYvwkeafjL_th3EN75NtE4zNLW/view?usp=sharing --> train data\n",
        "#https://drive.google.com/open?id=1Mqgd6bLTW-NBMY-hB6xwJvDd40HoWq3v --> test data\n",
        "\n",
        "#load train data\n",
        "file_id = '15unl1fPYvwkeafjL_th3EN75NtE4zNLW'\n",
        "downloaded = drive.CreateFile({'id':file_id}) \n",
        "downloaded.GetContentFile('TRAIN-ARULES.csv')  \n",
        "data_in = pd.read_csv('TRAIN-ARULES.csv')\n",
        "data_in.head()\n",
        "\n",
        "#load test data\n",
        "file_id = '1Mqgd6bLTW-NBMY-hB6xwJvDd40HoWq3v'\n",
        "downloaded = drive.CreateFile({'id':file_id}) \n",
        "downloaded.GetContentFile('testarules.csv')  \n",
        "test_in = pd.read_csv('testarules.csv')\n",
        "test_in.head()\n"
      ],
      "execution_count": 0,
      "outputs": [
        {
          "output_type": "execute_result",
          "data": {
            "text/html": [
              "<div>\n",
              "<style scoped>\n",
              "    .dataframe tbody tr th:only-of-type {\n",
              "        vertical-align: middle;\n",
              "    }\n",
              "\n",
              "    .dataframe tbody tr th {\n",
              "        vertical-align: top;\n",
              "    }\n",
              "\n",
              "    .dataframe thead th {\n",
              "        text-align: right;\n",
              "    }\n",
              "</style>\n",
              "<table border=\"1\" class=\"dataframe\">\n",
              "  <thead>\n",
              "    <tr style=\"text-align: right;\">\n",
              "      <th></th>\n",
              "      <th>Item1</th>\n",
              "      <th>Item2</th>\n",
              "      <th>Item3</th>\n",
              "      <th>Item4</th>\n",
              "      <th>Item5</th>\n",
              "    </tr>\n",
              "  </thead>\n",
              "  <tbody>\n",
              "    <tr>\n",
              "      <th>0</th>\n",
              "      <td>Dark Chocolate Minis</td>\n",
              "      <td>Organic Pink Lemonade Bunny Fruit Snacks</td>\n",
              "      <td>Peach-Pear Sparkling Water</td>\n",
              "      <td>NaN</td>\n",
              "      <td>NaN</td>\n",
              "    </tr>\n",
              "    <tr>\n",
              "      <th>1</th>\n",
              "      <td>Banana</td>\n",
              "      <td>Dry Roasted Almonds</td>\n",
              "      <td>NaN</td>\n",
              "      <td>NaN</td>\n",
              "      <td>NaN</td>\n",
              "    </tr>\n",
              "  </tbody>\n",
              "</table>\n",
              "</div>"
            ],
            "text/plain": [
              "                  Item1                                     Item2  ... Item4  Item5\n",
              "0  Dark Chocolate Minis  Organic Pink Lemonade Bunny Fruit Snacks  ...   NaN    NaN\n",
              "1                Banana                       Dry Roasted Almonds  ...   NaN    NaN\n",
              "\n",
              "[2 rows x 5 columns]"
            ]
          },
          "metadata": {
            "tags": []
          },
          "execution_count": 1
        }
      ]
    },
    {
      "cell_type": "markdown",
      "metadata": {
        "id": "VTXSnq1cjfJi",
        "colab_type": "text"
      },
      "source": [
        "## 2. After loading data, we need to consolidate the items into 1 transaction per row with each order_id+user_id"
      ]
    },
    {
      "cell_type": "code",
      "metadata": {
        "id": "UPv0_MJJjhTp",
        "colab_type": "code",
        "outputId": "82227260-baf3-4cc8-9bd3-0085e7023853",
        "colab": {
          "base_uri": "https://localhost:8080/",
          "height": 71
        }
      },
      "source": [
        "gb = data_in.groupby(('order_id','user_id'))\n",
        "result = gb['product_name'].unique()\n",
        "#print(result)\n"
      ],
      "execution_count": 0,
      "outputs": [
        {
          "output_type": "stream",
          "text": [
            "/usr/local/lib/python3.6/dist-packages/ipykernel_launcher.py:1: FutureWarning: Interpreting tuple 'by' as a list of keys, rather than a single key. Use 'by=[...]' instead of 'by=(...)'. In the future, a tuple will always mean a single key.\n",
            "  \"\"\"Entry point for launching an IPython kernel.\n"
          ],
          "name": "stderr"
        }
      ]
    },
    {
      "cell_type": "markdown",
      "metadata": {
        "id": "pXb7RhFYtUeD",
        "colab_type": "text"
      },
      "source": [
        "## 3. Create List of records"
      ]
    },
    {
      "cell_type": "code",
      "metadata": {
        "id": "hyEPeDFytWgn",
        "colab_type": "code",
        "colab": {}
      },
      "source": [
        "cnt = result.shape[0]\n",
        "records = []\n",
        "\n",
        "for i in range(cnt):\n",
        "  records.append(result[i])\n",
        "\n",
        "#print(records)"
      ],
      "execution_count": 0,
      "outputs": []
    },
    {
      "cell_type": "markdown",
      "metadata": {
        "id": "crp3X49GjSNk",
        "colab_type": "text"
      },
      "source": [
        "##4. Create List of Test Data"
      ]
    },
    {
      "cell_type": "code",
      "metadata": {
        "id": "UopNDrPDjXuw",
        "colab_type": "code",
        "outputId": "027291d5-b436-4e8b-8db5-6fbddc9351b8",
        "colab": {
          "base_uri": "https://localhost:8080/",
          "height": 51
        }
      },
      "source": [
        "print(test_in.shape)\n",
        "checklist = [[]]\n",
        "checklist.clear()\n",
        "rowlist = []\n",
        "for i in range(test_in.shape[0]):\n",
        "  for j in range(test_in.shape[1]):\n",
        "    if(pd.isnull(test_in.iloc[i,j]) != True):\n",
        "      rowlist.append(test_in.iloc[i,j])\n",
        "  if(rowlist != []):\n",
        "    if(checklist.count != 0):\n",
        "      checklist.append(rowlist)\n",
        "    else:\n",
        "      checklist=rowlist\n",
        "    rowlist = []\n",
        "\n",
        "print(checklist)"
      ],
      "execution_count": 0,
      "outputs": [
        {
          "output_type": "stream",
          "text": [
            "(2, 5)\n",
            "[['Dark Chocolate Minis', 'Organic Pink Lemonade Bunny Fruit Snacks', 'Peach-Pear Sparkling Water'], ['Banana', 'Dry Roasted Almonds']]\n"
          ],
          "name": "stdout"
        }
      ]
    },
    {
      "cell_type": "markdown",
      "metadata": {
        "id": "fPe_zkNbgvrH",
        "colab_type": "text"
      },
      "source": [
        "#Using apyori Library"
      ]
    },
    {
      "cell_type": "code",
      "metadata": {
        "id": "wVOpbx47i14f",
        "colab_type": "code",
        "outputId": "526fd4c1-e904-4901-eb50-618650a06c05",
        "colab": {
          "base_uri": "https://localhost:8080/",
          "height": 34
        }
      },
      "source": [
        "!pip install apyori\n",
        "import pandas as pd\n",
        "from apyori import apriori"
      ],
      "execution_count": 0,
      "outputs": [
        {
          "output_type": "stream",
          "text": [
            "Requirement already satisfied: apyori in /usr/local/lib/python3.6/dist-packages (1.1.1)\n"
          ],
          "name": "stdout"
        }
      ]
    },
    {
      "cell_type": "markdown",
      "metadata": {
        "id": "JaFBDMMftyZJ",
        "colab_type": "text"
      },
      "source": [
        "## 5. Apply apriori to generate association rules"
      ]
    },
    {
      "cell_type": "code",
      "metadata": {
        "id": "_ChnAz6ht8iA",
        "colab_type": "code",
        "outputId": "6d5d67d6-75c4-4332-d5ce-42b08160c909",
        "colab": {
          "base_uri": "https://localhost:8080/",
          "height": 71
        }
      },
      "source": [
        "association_rules = apriori(records, min_support=0.0045, min_confidence=0.2)\n",
        "association_results = list(association_rules)\n",
        "\n",
        "print(len(association_results))\n",
        "\n",
        "print(association_results[0])"
      ],
      "execution_count": 0,
      "outputs": [
        {
          "output_type": "stream",
          "text": [
            "1015\n",
            "RelationRecord(items=frozenset({'Apples', '0% Greek Strained Yogurt'}), support=0.006346967559943582, ordered_statistics=[OrderedStatistic(items_base=frozenset({'0% Greek Strained Yogurt'}), items_add=frozenset({'Apples'}), confidence=0.6428571428571428, lift=41.43506493506493), OrderedStatistic(items_base=frozenset({'Apples'}), items_add=frozenset({'0% Greek Strained Yogurt'}), confidence=0.40909090909090906, lift=41.43506493506493)])\n"
          ],
          "name": "stdout"
        }
      ]
    },
    {
      "cell_type": "markdown",
      "metadata": {
        "id": "F0gzA2jlzqnR",
        "colab_type": "text"
      },
      "source": [
        "## 6. Predict item3 and item4 for test data"
      ]
    },
    {
      "cell_type": "code",
      "metadata": {
        "id": "jA6lNoRevm7n",
        "colab_type": "code",
        "outputId": "da563601-82b7-4f09-c09b-db43b5d44d93",
        "colab": {
          "base_uri": "https://localhost:8080/",
          "height": 187
        }
      },
      "source": [
        "anslist = []\n",
        "finallist = [[]]\n",
        "finallist.clear()\n",
        "\n",
        "for l in range(len(checklist)):\n",
        "  print('\\x1b[1;33m'+\"Test Data[{}]={}\".format(l,checklist[l])+'\\x1b[0m')\n",
        "  for i in range(len(association_results)):\n",
        "    list_items = list(association_results[i][0])\n",
        "    if(len(list_items) == 5):\n",
        "      if(checklist[l][0] in list_items and (checklist[l][1] in list_items) and (checklist[l][2] in list_items)):\n",
        "        for j in range(5):\n",
        "          if(list_items[j] not in checklist[l]):\n",
        "            if(list_items[j] not in anslist):\n",
        "              anslist.append(list_items[j])\n",
        "    if(anslist != []):\n",
        "      if(finallist.count == 0):\n",
        "        finallist = anslist\n",
        "      else:\n",
        "        finallist.append(anslist)\n",
        "      anslist=[]\n",
        "\n",
        "  for k in range(len(finallist)):\n",
        "    if(len(finallist[k])>1):\n",
        "      print('\\x1b[1;31m'+\"item3={} and item4={}\".format(finallist[k][0], finallist[k][1])+'\\x1b[0m')\n"
      ],
      "execution_count": 0,
      "outputs": [
        {
          "output_type": "stream",
          "text": [
            "\u001b[1;33mTest Data[0]=['Dark Chocolate Minis', 'Organic Pink Lemonade Bunny Fruit Snacks', 'Peach-Pear Sparkling Water']\u001b[0m\n",
            "\u001b[1;31mitem3=Organic Heritage Flakes Cereal and item4=Maple Pumpkin Seeds with Sea Salt Chewy with a Crunch Granola Bars\u001b[0m\n",
            "\u001b[1;31mitem3=Organic Heritage Flakes Cereal and item4=Organic Graham Crunch Cereal\u001b[0m\n",
            "\u001b[1;31mitem3=Organic Graham Crunch Cereal and item4=Sparkling Water, Natural Mango Essenced\u001b[0m\n",
            "\u001b[1;31mitem3=Organic Heritage Flakes Cereal and item4=Sparkling Water, Natural Mango Essenced\u001b[0m\n",
            "\u001b[1;33mTest Data[1]=['Banana', 'Dry Roasted Almonds']\u001b[0m\n",
            "\u001b[1;31mitem3=Organic Heritage Flakes Cereal and item4=Maple Pumpkin Seeds with Sea Salt Chewy with a Crunch Granola Bars\u001b[0m\n",
            "\u001b[1;31mitem3=Organic Heritage Flakes Cereal and item4=Organic Graham Crunch Cereal\u001b[0m\n",
            "\u001b[1;31mitem3=Organic Graham Crunch Cereal and item4=Sparkling Water, Natural Mango Essenced\u001b[0m\n",
            "\u001b[1;31mitem3=Organic Heritage Flakes Cereal and item4=Sparkling Water, Natural Mango Essenced\u001b[0m\n"
          ],
          "name": "stdout"
        }
      ]
    },
    {
      "cell_type": "markdown",
      "metadata": {
        "id": "ymfyf6hlnKmn",
        "colab_type": "text"
      },
      "source": [
        "#Using mlxtend.frequent_patterns Library"
      ]
    },
    {
      "cell_type": "code",
      "metadata": {
        "id": "uGnS6uw4nUAH",
        "colab_type": "code",
        "colab": {}
      },
      "source": [
        "from mlxtend.preprocessing import TransactionEncoder\n",
        "from mlxtend.frequent_patterns import apriori"
      ],
      "execution_count": 0,
      "outputs": []
    },
    {
      "cell_type": "markdown",
      "metadata": {
        "id": "eyQffS72nZfO",
        "colab_type": "text"
      },
      "source": [
        "## 5. Apply apriori to generate association rules"
      ]
    },
    {
      "cell_type": "code",
      "metadata": {
        "id": "9kScBtnZnWMQ",
        "colab_type": "code",
        "outputId": "175acb64-afef-4427-8fda-184c5effcfb8",
        "colab": {
          "base_uri": "https://localhost:8080/",
          "height": 1000
        }
      },
      "source": [
        "te = TransactionEncoder()\n",
        "te_ary = te.fit(records).transform(records)\n",
        "df = pd.DataFrame(te_ary, columns=te.columns_)\n",
        "frequent_itemsets = apriori(df, min_support=0.0045, use_colnames=True)\n",
        "\n",
        "frequent_itemsets"
      ],
      "execution_count": 0,
      "outputs": [
        {
          "output_type": "execute_result",
          "data": {
            "text/html": [
              "<div>\n",
              "<style scoped>\n",
              "    .dataframe tbody tr th:only-of-type {\n",
              "        vertical-align: middle;\n",
              "    }\n",
              "\n",
              "    .dataframe tbody tr th {\n",
              "        vertical-align: top;\n",
              "    }\n",
              "\n",
              "    .dataframe thead th {\n",
              "        text-align: right;\n",
              "    }\n",
              "</style>\n",
              "<table border=\"1\" class=\"dataframe\">\n",
              "  <thead>\n",
              "    <tr style=\"text-align: right;\">\n",
              "      <th></th>\n",
              "      <th>support</th>\n",
              "      <th>itemsets</th>\n",
              "    </tr>\n",
              "  </thead>\n",
              "  <tbody>\n",
              "    <tr>\n",
              "      <th>0</th>\n",
              "      <td>0.009873</td>\n",
              "      <td>(0% Greek Strained Yogurt)</td>\n",
              "    </tr>\n",
              "    <tr>\n",
              "      <th>1</th>\n",
              "      <td>0.004937</td>\n",
              "      <td>(100% Juice, Variety Pack)</td>\n",
              "    </tr>\n",
              "    <tr>\n",
              "      <th>2</th>\n",
              "      <td>0.009168</td>\n",
              "      <td>(100% Premium Select Not From Concentrate Pure...</td>\n",
              "    </tr>\n",
              "    <tr>\n",
              "      <th>3</th>\n",
              "      <td>0.005642</td>\n",
              "      <td>(100% Recycled Paper Towels)</td>\n",
              "    </tr>\n",
              "    <tr>\n",
              "      <th>4</th>\n",
              "      <td>0.014810</td>\n",
              "      <td>(1500 Pale Ale)</td>\n",
              "    </tr>\n",
              "    <tr>\n",
              "      <th>5</th>\n",
              "      <td>0.007757</td>\n",
              "      <td>(2% Reduced Fat Milk)</td>\n",
              "    </tr>\n",
              "    <tr>\n",
              "      <th>6</th>\n",
              "      <td>0.009168</td>\n",
              "      <td>(49 Flavors Jelly Belly Jelly Beans)</td>\n",
              "    </tr>\n",
              "    <tr>\n",
              "      <th>7</th>\n",
              "      <td>0.009168</td>\n",
              "      <td>(80  Vodka Holiday Edition)</td>\n",
              "    </tr>\n",
              "    <tr>\n",
              "      <th>8</th>\n",
              "      <td>0.008463</td>\n",
              "      <td>(85% Lean Ground Beef)</td>\n",
              "    </tr>\n",
              "    <tr>\n",
              "      <th>9</th>\n",
              "      <td>0.004937</td>\n",
              "      <td>(Acai Berry Chia Bar)</td>\n",
              "    </tr>\n",
              "    <tr>\n",
              "      <th>10</th>\n",
              "      <td>0.004937</td>\n",
              "      <td>(Adult Grain-Free &amp; Poultry-Free Dog Food)</td>\n",
              "    </tr>\n",
              "    <tr>\n",
              "      <th>11</th>\n",
              "      <td>0.010578</td>\n",
              "      <td>(Annie Peely Fruit 4.5 Z)</td>\n",
              "    </tr>\n",
              "    <tr>\n",
              "      <th>12</th>\n",
              "      <td>0.007757</td>\n",
              "      <td>(Annie's Bunny Fruit Snacks Variety)</td>\n",
              "    </tr>\n",
              "    <tr>\n",
              "      <th>13</th>\n",
              "      <td>0.007052</td>\n",
              "      <td>(Antimo Caputo Flour)</td>\n",
              "    </tr>\n",
              "    <tr>\n",
              "      <th>14</th>\n",
              "      <td>0.016220</td>\n",
              "      <td>(Apple Honeycrisp Organic)</td>\n",
              "    </tr>\n",
              "    <tr>\n",
              "      <th>15</th>\n",
              "      <td>0.015515</td>\n",
              "      <td>(Apples)</td>\n",
              "    </tr>\n",
              "    <tr>\n",
              "      <th>16</th>\n",
              "      <td>0.013399</td>\n",
              "      <td>(Asparagus)</td>\n",
              "    </tr>\n",
              "    <tr>\n",
              "      <th>17</th>\n",
              "      <td>0.007052</td>\n",
              "      <td>(Asparation/Broccolini/Baby Broccoli)</td>\n",
              "    </tr>\n",
              "    <tr>\n",
              "      <th>18</th>\n",
              "      <td>0.014810</td>\n",
              "      <td>(Authentic French Brioche)</td>\n",
              "    </tr>\n",
              "    <tr>\n",
              "      <th>19</th>\n",
              "      <td>0.132581</td>\n",
              "      <td>(Bag of Organic Bananas)</td>\n",
              "    </tr>\n",
              "    <tr>\n",
              "      <th>20</th>\n",
              "      <td>0.095910</td>\n",
              "      <td>(Banana)</td>\n",
              "    </tr>\n",
              "    <tr>\n",
              "      <th>21</th>\n",
              "      <td>0.007757</td>\n",
              "      <td>(Bars Peanut Butter)</td>\n",
              "    </tr>\n",
              "    <tr>\n",
              "      <th>22</th>\n",
              "      <td>0.005642</td>\n",
              "      <td>(Bartlett Pears)</td>\n",
              "    </tr>\n",
              "    <tr>\n",
              "      <th>23</th>\n",
              "      <td>0.009873</td>\n",
              "      <td>(Blueberries)</td>\n",
              "    </tr>\n",
              "    <tr>\n",
              "      <th>24</th>\n",
              "      <td>0.005642</td>\n",
              "      <td>(Blueberry Almond Breakfast Bars)</td>\n",
              "    </tr>\n",
              "    <tr>\n",
              "      <th>25</th>\n",
              "      <td>0.004937</td>\n",
              "      <td>(Blueberry English Tea Scones)</td>\n",
              "    </tr>\n",
              "    <tr>\n",
              "      <th>26</th>\n",
              "      <td>0.007757</td>\n",
              "      <td>(Blueberry Yoghurt)</td>\n",
              "    </tr>\n",
              "    <tr>\n",
              "      <th>27</th>\n",
              "      <td>0.005642</td>\n",
              "      <td>(Bold &amp; Crispy Zesties! Crispy Seasoned French...</td>\n",
              "    </tr>\n",
              "    <tr>\n",
              "      <th>28</th>\n",
              "      <td>0.011283</td>\n",
              "      <td>(Boneless Skinless Chicken Breasts)</td>\n",
              "    </tr>\n",
              "    <tr>\n",
              "      <th>29</th>\n",
              "      <td>0.008463</td>\n",
              "      <td>(Bonne Bouche Ash-Ripened Goat Cheese)</td>\n",
              "    </tr>\n",
              "    <tr>\n",
              "      <th>...</th>\n",
              "      <td>...</td>\n",
              "      <td>...</td>\n",
              "    </tr>\n",
              "    <tr>\n",
              "      <th>1462</th>\n",
              "      <td>0.005642</td>\n",
              "      <td>(Annie's Bunny Fruit Snacks Variety, Crunch Ch...</td>\n",
              "    </tr>\n",
              "    <tr>\n",
              "      <th>1463</th>\n",
              "      <td>0.005642</td>\n",
              "      <td>(Annie's Bunny Fruit Snacks Variety, Organic H...</td>\n",
              "    </tr>\n",
              "    <tr>\n",
              "      <th>1464</th>\n",
              "      <td>0.004937</td>\n",
              "      <td>(Cran-Apple Juice Drink, Creamed Chipped Beef,...</td>\n",
              "    </tr>\n",
              "    <tr>\n",
              "      <th>1465</th>\n",
              "      <td>0.004937</td>\n",
              "      <td>(Cran-Apple Juice Drink, Creamed Chipped Beef,...</td>\n",
              "    </tr>\n",
              "    <tr>\n",
              "      <th>1466</th>\n",
              "      <td>0.005642</td>\n",
              "      <td>(Cran-Apple Juice Drink, Creamed Chipped Beef,...</td>\n",
              "    </tr>\n",
              "    <tr>\n",
              "      <th>1467</th>\n",
              "      <td>0.005642</td>\n",
              "      <td>(Crunch Chocolate Peanut Butter Granola Bar, L...</td>\n",
              "    </tr>\n",
              "    <tr>\n",
              "      <th>1468</th>\n",
              "      <td>0.004937</td>\n",
              "      <td>(Crunch Chocolate Peanut Butter Granola Bar, L...</td>\n",
              "    </tr>\n",
              "    <tr>\n",
              "      <th>1469</th>\n",
              "      <td>0.006347</td>\n",
              "      <td>(Crunch Chocolate Peanut Butter Granola Bar, O...</td>\n",
              "    </tr>\n",
              "    <tr>\n",
              "      <th>1470</th>\n",
              "      <td>0.004937</td>\n",
              "      <td>(Crunch Chocolate Peanut Butter Granola Bar, O...</td>\n",
              "    </tr>\n",
              "    <tr>\n",
              "      <th>1471</th>\n",
              "      <td>0.004937</td>\n",
              "      <td>(Crunch Chocolate Peanut Butter Granola Bar, O...</td>\n",
              "    </tr>\n",
              "    <tr>\n",
              "      <th>1472</th>\n",
              "      <td>0.004937</td>\n",
              "      <td>(Crunch Chocolate Peanut Butter Granola Bar, O...</td>\n",
              "    </tr>\n",
              "    <tr>\n",
              "      <th>1473</th>\n",
              "      <td>0.004937</td>\n",
              "      <td>(Crunch Chocolate Peanut Butter Granola Bar, O...</td>\n",
              "    </tr>\n",
              "    <tr>\n",
              "      <th>1474</th>\n",
              "      <td>0.004937</td>\n",
              "      <td>(Organic Heritage Flakes Cereal, Organic Graha...</td>\n",
              "    </tr>\n",
              "    <tr>\n",
              "      <th>1475</th>\n",
              "      <td>0.004937</td>\n",
              "      <td>(Organic Pink Lemonade Bunny Fruit Snacks, Org...</td>\n",
              "    </tr>\n",
              "    <tr>\n",
              "      <th>1476</th>\n",
              "      <td>0.004937</td>\n",
              "      <td>(Organic Pink Lemonade Bunny Fruit Snacks, Org...</td>\n",
              "    </tr>\n",
              "    <tr>\n",
              "      <th>1477</th>\n",
              "      <td>0.005642</td>\n",
              "      <td>(Organic Pink Lemonade Bunny Fruit Snacks, Org...</td>\n",
              "    </tr>\n",
              "    <tr>\n",
              "      <th>1478</th>\n",
              "      <td>0.004937</td>\n",
              "      <td>(Peach-Pear Sparkling Water, Organic Heritage ...</td>\n",
              "    </tr>\n",
              "    <tr>\n",
              "      <th>1479</th>\n",
              "      <td>0.004937</td>\n",
              "      <td>(Organic Pink Lemonade Bunny Fruit Snacks, Pea...</td>\n",
              "    </tr>\n",
              "    <tr>\n",
              "      <th>1480</th>\n",
              "      <td>0.007757</td>\n",
              "      <td>(Organic Pink Lemonade Bunny Fruit Snacks, Org...</td>\n",
              "    </tr>\n",
              "    <tr>\n",
              "      <th>1481</th>\n",
              "      <td>0.004937</td>\n",
              "      <td>(Organic Pink Lemonade Bunny Fruit Snacks, Org...</td>\n",
              "    </tr>\n",
              "    <tr>\n",
              "      <th>1482</th>\n",
              "      <td>0.004937</td>\n",
              "      <td>(Total 0% Raspberry Yogurt, Total 2% with Stra...</td>\n",
              "    </tr>\n",
              "    <tr>\n",
              "      <th>1483</th>\n",
              "      <td>0.004937</td>\n",
              "      <td>(Total 2% Lowfat Greek Strained Yogurt With Bl...</td>\n",
              "    </tr>\n",
              "    <tr>\n",
              "      <th>1484</th>\n",
              "      <td>0.004937</td>\n",
              "      <td>(Total 2% Lowfat Greek Strained Yogurt With Bl...</td>\n",
              "    </tr>\n",
              "    <tr>\n",
              "      <th>1485</th>\n",
              "      <td>0.005642</td>\n",
              "      <td>(Organic Pink Lemonade Bunny Fruit Snacks, Org...</td>\n",
              "    </tr>\n",
              "    <tr>\n",
              "      <th>1486</th>\n",
              "      <td>0.005642</td>\n",
              "      <td>(Total 2% Lowfat Greek Strained Yogurt With Bl...</td>\n",
              "    </tr>\n",
              "    <tr>\n",
              "      <th>1487</th>\n",
              "      <td>0.004937</td>\n",
              "      <td>(Total 2% Lowfat Greek Strained Yogurt With Bl...</td>\n",
              "    </tr>\n",
              "    <tr>\n",
              "      <th>1488</th>\n",
              "      <td>0.004937</td>\n",
              "      <td>(Total 2% Lowfat Greek Strained Yogurt With Bl...</td>\n",
              "    </tr>\n",
              "    <tr>\n",
              "      <th>1489</th>\n",
              "      <td>0.004937</td>\n",
              "      <td>(Total 2% Lowfat Greek Strained Yogurt With Bl...</td>\n",
              "    </tr>\n",
              "    <tr>\n",
              "      <th>1490</th>\n",
              "      <td>0.005642</td>\n",
              "      <td>(Annie's Bunny Fruit Snacks Variety, Crunch Ch...</td>\n",
              "    </tr>\n",
              "    <tr>\n",
              "      <th>1491</th>\n",
              "      <td>0.004937</td>\n",
              "      <td>(Organic Pink Lemonade Bunny Fruit Snacks, Org...</td>\n",
              "    </tr>\n",
              "  </tbody>\n",
              "</table>\n",
              "<p>1492 rows × 2 columns</p>\n",
              "</div>"
            ],
            "text/plain": [
              "       support                                           itemsets\n",
              "0     0.009873                         (0% Greek Strained Yogurt)\n",
              "1     0.004937                         (100% Juice, Variety Pack)\n",
              "2     0.009168  (100% Premium Select Not From Concentrate Pure...\n",
              "3     0.005642                       (100% Recycled Paper Towels)\n",
              "4     0.014810                                    (1500 Pale Ale)\n",
              "5     0.007757                              (2% Reduced Fat Milk)\n",
              "6     0.009168               (49 Flavors Jelly Belly Jelly Beans)\n",
              "7     0.009168                        (80  Vodka Holiday Edition)\n",
              "8     0.008463                             (85% Lean Ground Beef)\n",
              "9     0.004937                              (Acai Berry Chia Bar)\n",
              "10    0.004937         (Adult Grain-Free & Poultry-Free Dog Food)\n",
              "11    0.010578                          (Annie Peely Fruit 4.5 Z)\n",
              "12    0.007757               (Annie's Bunny Fruit Snacks Variety)\n",
              "13    0.007052                              (Antimo Caputo Flour)\n",
              "14    0.016220                         (Apple Honeycrisp Organic)\n",
              "15    0.015515                                           (Apples)\n",
              "16    0.013399                                        (Asparagus)\n",
              "17    0.007052              (Asparation/Broccolini/Baby Broccoli)\n",
              "18    0.014810                         (Authentic French Brioche)\n",
              "19    0.132581                           (Bag of Organic Bananas)\n",
              "20    0.095910                                           (Banana)\n",
              "21    0.007757                               (Bars Peanut Butter)\n",
              "22    0.005642                                   (Bartlett Pears)\n",
              "23    0.009873                                      (Blueberries)\n",
              "24    0.005642                  (Blueberry Almond Breakfast Bars)\n",
              "25    0.004937                     (Blueberry English Tea Scones)\n",
              "26    0.007757                                (Blueberry Yoghurt)\n",
              "27    0.005642  (Bold & Crispy Zesties! Crispy Seasoned French...\n",
              "28    0.011283                (Boneless Skinless Chicken Breasts)\n",
              "29    0.008463             (Bonne Bouche Ash-Ripened Goat Cheese)\n",
              "...        ...                                                ...\n",
              "1462  0.005642  (Annie's Bunny Fruit Snacks Variety, Crunch Ch...\n",
              "1463  0.005642  (Annie's Bunny Fruit Snacks Variety, Organic H...\n",
              "1464  0.004937  (Cran-Apple Juice Drink, Creamed Chipped Beef,...\n",
              "1465  0.004937  (Cran-Apple Juice Drink, Creamed Chipped Beef,...\n",
              "1466  0.005642  (Cran-Apple Juice Drink, Creamed Chipped Beef,...\n",
              "1467  0.005642  (Crunch Chocolate Peanut Butter Granola Bar, L...\n",
              "1468  0.004937  (Crunch Chocolate Peanut Butter Granola Bar, L...\n",
              "1469  0.006347  (Crunch Chocolate Peanut Butter Granola Bar, O...\n",
              "1470  0.004937  (Crunch Chocolate Peanut Butter Granola Bar, O...\n",
              "1471  0.004937  (Crunch Chocolate Peanut Butter Granola Bar, O...\n",
              "1472  0.004937  (Crunch Chocolate Peanut Butter Granola Bar, O...\n",
              "1473  0.004937  (Crunch Chocolate Peanut Butter Granola Bar, O...\n",
              "1474  0.004937  (Organic Heritage Flakes Cereal, Organic Graha...\n",
              "1475  0.004937  (Organic Pink Lemonade Bunny Fruit Snacks, Org...\n",
              "1476  0.004937  (Organic Pink Lemonade Bunny Fruit Snacks, Org...\n",
              "1477  0.005642  (Organic Pink Lemonade Bunny Fruit Snacks, Org...\n",
              "1478  0.004937  (Peach-Pear Sparkling Water, Organic Heritage ...\n",
              "1479  0.004937  (Organic Pink Lemonade Bunny Fruit Snacks, Pea...\n",
              "1480  0.007757  (Organic Pink Lemonade Bunny Fruit Snacks, Org...\n",
              "1481  0.004937  (Organic Pink Lemonade Bunny Fruit Snacks, Org...\n",
              "1482  0.004937  (Total 0% Raspberry Yogurt, Total 2% with Stra...\n",
              "1483  0.004937  (Total 2% Lowfat Greek Strained Yogurt With Bl...\n",
              "1484  0.004937  (Total 2% Lowfat Greek Strained Yogurt With Bl...\n",
              "1485  0.005642  (Organic Pink Lemonade Bunny Fruit Snacks, Org...\n",
              "1486  0.005642  (Total 2% Lowfat Greek Strained Yogurt With Bl...\n",
              "1487  0.004937  (Total 2% Lowfat Greek Strained Yogurt With Bl...\n",
              "1488  0.004937  (Total 2% Lowfat Greek Strained Yogurt With Bl...\n",
              "1489  0.004937  (Total 2% Lowfat Greek Strained Yogurt With Bl...\n",
              "1490  0.005642  (Annie's Bunny Fruit Snacks Variety, Crunch Ch...\n",
              "1491  0.004937  (Organic Pink Lemonade Bunny Fruit Snacks, Org...\n",
              "\n",
              "[1492 rows x 2 columns]"
            ]
          },
          "metadata": {
            "tags": []
          },
          "execution_count": 9
        }
      ]
    },
    {
      "cell_type": "code",
      "metadata": {
        "id": "R9s4uuotnis4",
        "colab_type": "code",
        "colab": {}
      },
      "source": [
        "from mlxtend.frequent_patterns import association_rules\n",
        "\n",
        "rules=association_rules(frequent_itemsets, metric=\"confidence\", min_threshold=0.2)"
      ],
      "execution_count": 0,
      "outputs": []
    },
    {
      "cell_type": "markdown",
      "metadata": {
        "id": "pVxzvcNineqe",
        "colab_type": "text"
      },
      "source": [
        "## 6. Predict item3 and item4 for test data"
      ]
    },
    {
      "cell_type": "code",
      "metadata": {
        "id": "qSUMhduInm8E",
        "colab_type": "code",
        "outputId": "c568f613-290c-4524-f70a-7cbf95f68071",
        "colab": {
          "base_uri": "https://localhost:8080/",
          "height": 272
        }
      },
      "source": [
        "pd.set_option('max_colwidth', 200)\n",
        "for k in range(len(checklist)):\n",
        "  print('\\x1b[1;33m'+\"Test Data[{}]={}\".format(k,checklist[k])+'\\x1b[0m')\n",
        "  lst=checklist[k]\n",
        "  res_dct = {lst[i]for i in range(0, len(lst))} \n",
        "  ans = rules[rules['antecedents'] == res_dct]\n",
        "  print(\"Next item predictions:\\n{}\".format(ans['consequents']))"
      ],
      "execution_count": 0,
      "outputs": [
        {
          "output_type": "stream",
          "text": [
            "\u001b[1;33mTest Data[0]=['Dark Chocolate Minis', 'Organic Pink Lemonade Bunny Fruit Snacks', 'Peach-Pear Sparkling Water']\u001b[0m\n",
            "Next item predictions:\n",
            "3699                                       (Maple Pumpkin Seeds with Sea Salt Chewy with a Crunch Granola Bars)\n",
            "3752                                                                             (Organic Graham Crunch Cereal)\n",
            "3796                                                                           (Organic Heritage Flakes Cereal)\n",
            "3838                                                                  (Sparkling Water, Natural Mango Essenced)\n",
            "4908       (Organic Heritage Flakes Cereal, Maple Pumpkin Seeds with Sea Salt Chewy with a Crunch Granola Bars)\n",
            "4938                                             (Organic Heritage Flakes Cereal, Organic Graham Crunch Cereal)\n",
            "5023                                    (Sparkling Water, Natural Mango Essenced, Organic Graham Crunch Cereal)\n",
            "5055                                  (Sparkling Water, Natural Mango Essenced, Organic Heritage Flakes Cereal)\n",
            "5425    (Sparkling Water, Natural Mango Essenced, Organic Heritage Flakes Cereal, Organic Graham Crunch Cereal)\n",
            "Name: consequents, dtype: object\n",
            "\u001b[1;33mTest Data[1]=['Banana', 'Dry Roasted Almonds']\u001b[0m\n",
            "Next item predictions:\n",
            "Series([], Name: consequents, dtype: object)\n"
          ],
          "name": "stdout"
        }
      ]
    }
  ]
}