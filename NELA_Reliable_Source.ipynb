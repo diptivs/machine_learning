{
  "nbformat": 4,
  "nbformat_minor": 0,
  "metadata": {
    "colab": {
      "name": "NELA_Reliable_Source.ipynb",
      "provenance": [],
      "collapsed_sections": [],
      "include_colab_link": true
    },
    "kernelspec": {
      "name": "python3",
      "display_name": "Python 3"
    }
  },
  "cells": [
    {
      "cell_type": "markdown",
      "metadata": {
        "id": "view-in-github",
        "colab_type": "text"
      },
      "source": [
        "<a href=\"https://colab.research.google.com/github/diptivs/machine_learning/blob/master/NELA_Reliable_Source.ipynb\" target=\"_parent\"><img src=\"https://colab.research.google.com/assets/colab-badge.svg\" alt=\"Open In Colab\"/></a>"
      ]
    },
    {
      "cell_type": "markdown",
      "metadata": {
        "id": "5Ngdv_58Hj4G",
        "colab_type": "text"
      },
      "source": [
        "SJSU ML 2019 : CMPE 257"
      ]
    },
    {
      "cell_type": "markdown",
      "metadata": {
        "id": "6SRWLhh0Jb3i",
        "colab_type": "text"
      },
      "source": [
        "Professor: Dr. Arsanjani\n",
        "\n",
        "Student ID: 013778570\n",
        "\n",
        "Name: Dipti Shiralkar"
      ]
    },
    {
      "cell_type": "markdown",
      "metadata": {
        "id": "2RibVdpYNarf",
        "colab_type": "text"
      },
      "source": [
        "#1. Configuration of the System : Iterative, Notebook, code structure, data, where will it reside, folders, cloud buckets etc."
      ]
    },
    {
      "cell_type": "markdown",
      "metadata": {
        "id": "b-4YzbL3NcPJ",
        "colab_type": "text"
      },
      "source": [
        "**Datasets used:**\n",
        "* We used NELA datasets available here: https://dataverse.harvard.edu/dataverse/nela\n",
        "* Used 2018 dataset for rest of the features\n",
        "* Used 2017 dataset to prepare a model for \"Posts/Social Activities\". *[ As Scraper code is changed. 2017 data file has full HTML with all tags which made social media (Facebook) data was available. But 2018 data files just have the articles]*"
      ]
    },
    {
      "cell_type": "markdown",
      "metadata": {
        "id": "ym3eT5Q3N3D8",
        "colab_type": "text"
      },
      "source": [
        "**Data amalgamation and filteration**\n",
        "* Dataset was amalgamated with Labels.csv\n",
        "* Filtered to reduce size to ~20k\n",
        "\n",
        "To know the details please follow the colab here: https://colab.research.google.com/drive/1AUrn-rXd5EZlQKV6KMcT6DOeaL54xPG1"
      ]
    },
    {
      "cell_type": "markdown",
      "metadata": {
        "id": "96I2m2NrO29e",
        "colab_type": "text"
      },
      "source": [
        "**Shared drive details**\n",
        "* All the related data is shared on drive here: https://drive.google.com/open?id=1a4p_438ouSiD8O_sbFw_S3-WFoO4MtRi\n",
        "  * aggregated_labels : shows the calculation for aggregated label\n",
        "  * aggregated_labels.csv : Dataset having the aggrehated label for each source used for amalgmation\n",
        "  * nela_aggregate_labels.csv : Amalgamated dataset; Articles DB + Labels\n",
        "  * nela_score_values_reduced_ds.csv : Filtered dataset of size ~20k with even destribution of labels and sources\n",
        "  * nela_score_values_reduced_ds_with_frq_cnt_1.csv to nela_score_values_reduced_ds_with_frq_cnt_4.csv: Dataset prepared by calculating Frequency of each article using cosine similarity. As train dataset is huge in size (700k), it was a time + processing exhaustive process to find cosine similarity. Hence divided into parallel processes, generated seperate colabs and then merged it."
      ]
    },
    {
      "cell_type": "markdown",
      "metadata": {
        "id": "3f5klbUDRY7M",
        "colab_type": "text"
      },
      "source": [
        "**Factor description:**\n",
        "Whenever one reads news after noting “who said”, he tends to look for “who published” the news. This is considered as a source of news. It’s been observed that is a source has published fake news before, there’s a good chance they’ll do it again. Hence the reliability factor of source of news is a good indicator towards fakeness of news. This indicates how thoroughly source validates the news before actually publishing it.\n",
        "\n"
      ]
    },
    {
      "cell_type": "markdown",
      "metadata": {
        "id": "ukAW6KpBQe8y",
        "colab_type": "text"
      },
      "source": [
        "#2. Data Collection : initial Data Set\n",
        "As discussed, the amalgamated and filtered dataset is used as base dataset.\n",
        "\n",
        "nela_score_values_reduced_ds.csv: https://drive.google.com/open?id=1-MdGo8vMMLWMZBcb_K0dKz56FzNEra7W"
      ]
    },
    {
      "cell_type": "markdown",
      "metadata": {
        "id": "kvayi5WORSbW",
        "colab_type": "text"
      },
      "source": [
        "###Feature set description\n",
        "\n",
        "* Reliable Source: The features used for this factor are listed below:\n",
        "\n",
        "| Source\t| Name | Aggregated |\n",
        "| --- | ---| ---|\n",
        "\n",
        "* Source: Name of source\n",
        "* Name: Title of article\n",
        "* Aggregated: Aggregated label for the given source\n"
      ]
    },
    {
      "cell_type": "markdown",
      "metadata": {
        "id": "xpyALRNgUpnm",
        "colab_type": "text"
      },
      "source": [
        "#3. Narration\n",
        "\n",
        "In this colab a ML model is developed to predict the fakeness of news considering the factor \"Reliable Source\".\n",
        "\n",
        "**Description**: Whenever one reads news after noting “who said”, he tends to look for “who published” the news. This is considered as a source of news. It’s been observed that is a source has published fake news before, there’s a good chance they’ll do it again. Hence the reliability factor of source of news is a good indicator towards fakeness of news. This indicates how thoroughly source validates the news before actually publishing it."
      ]
    },
    {
      "cell_type": "markdown",
      "metadata": {
        "id": "rYsg3KU7RDLT",
        "colab_type": "text"
      },
      "source": [
        "###Imports"
      ]
    },
    {
      "cell_type": "code",
      "metadata": {
        "id": "IBRhMgtsREfO",
        "colab_type": "code",
        "outputId": "f9900680-5eae-49a8-af28-54638803fc18",
        "colab": {
          "base_uri": "https://localhost:8080/",
          "height": 119
        }
      },
      "source": [
        "import sqlite3\n",
        "import string\n",
        "import pandas as pd\n",
        "from sklearn.feature_extraction.text import TfidfVectorizer\n",
        "from scipy import sparse\n",
        "from matplotlib import pyplot as plt\n",
        "\n",
        "from nltk.corpus import stopwords\n",
        "import nltk\n",
        "nltk.download('stopwords')\n",
        "from nltk.stem.snowball import SnowballStemmer\n",
        "from nltk.stem import WordNetLemmatizer \n",
        "import nltk\n",
        "nltk.download('wordnet')\n",
        "import nltk\n",
        "nltk.download('punkt')\n",
        "\n",
        "from sklearn.naive_bayes import MultinomialNB\n",
        "from sklearn.linear_model import LinearRegression\n",
        "from sklearn.metrics import accuracy_score\n",
        "from sklearn.metrics import classification_report,confusion_matrix\n",
        "from sklearn.model_selection import train_test_split\n",
        "\n",
        "import gensim\n",
        "from wordcloud import WordCloud, STOPWORDS, ImageColorGenerator"
      ],
      "execution_count": 0,
      "outputs": [
        {
          "output_type": "stream",
          "text": [
            "[nltk_data] Downloading package stopwords to /root/nltk_data...\n",
            "[nltk_data]   Package stopwords is already up-to-date!\n",
            "[nltk_data] Downloading package wordnet to /root/nltk_data...\n",
            "[nltk_data]   Package wordnet is already up-to-date!\n",
            "[nltk_data] Downloading package punkt to /root/nltk_data...\n",
            "[nltk_data]   Package punkt is already up-to-date!\n"
          ],
          "name": "stdout"
        }
      ]
    },
    {
      "cell_type": "markdown",
      "metadata": {
        "id": "sIfbHxXIScTq",
        "colab_type": "text"
      },
      "source": [
        "##Load dataset"
      ]
    },
    {
      "cell_type": "code",
      "metadata": {
        "id": "HsGZDsRuTNSP",
        "colab_type": "code",
        "colab": {}
      },
      "source": [
        "!pip install -U -q PyDrive\n",
        "from pydrive.auth import GoogleAuth\n",
        "from pydrive.drive import GoogleDrive\n",
        "from google.colab import auth\n",
        "from oauth2client.client import GoogleCredentials\n",
        "# Authenticate and create the PyDrive client.\n",
        "auth.authenticate_user()\n",
        "gauth = GoogleAuth()\n",
        "gauth.credentials = GoogleCredentials.get_application_default()\n",
        "drive = GoogleDrive(gauth)"
      ],
      "execution_count": 0,
      "outputs": []
    },
    {
      "cell_type": "code",
      "metadata": {
        "id": "fmkErWzqTpxi",
        "colab_type": "code",
        "outputId": "0619ed37-0abb-4e8a-d873-418952ace15f",
        "colab": {
          "base_uri": "https://localhost:8080/",
          "height": 204
        }
      },
      "source": [
        "#https://drive.google.com/open?id=1-MdGo8vMMLWMZBcb_K0dKz56FzNEra7W\n",
        "file_id = '1-MdGo8vMMLWMZBcb_K0dKz56FzNEra7W'\n",
        "downloaded = drive.CreateFile({'id':file_id}) \n",
        "downloaded.GetContentFile('nela_score_values_reduced_ds.csv') \n",
        "data_in = pd.read_csv('nela_score_values_reduced_ds.csv')\n",
        "data_in.head()"
      ],
      "execution_count": 0,
      "outputs": [
        {
          "output_type": "execute_result",
          "data": {
            "text/html": [
              "<div>\n",
              "<style scoped>\n",
              "    .dataframe tbody tr th:only-of-type {\n",
              "        vertical-align: middle;\n",
              "    }\n",
              "\n",
              "    .dataframe tbody tr th {\n",
              "        vertical-align: top;\n",
              "    }\n",
              "\n",
              "    .dataframe thead th {\n",
              "        text-align: right;\n",
              "    }\n",
              "</style>\n",
              "<table border=\"1\" class=\"dataframe\">\n",
              "  <thead>\n",
              "    <tr style=\"text-align: right;\">\n",
              "      <th></th>\n",
              "      <th>Unnamed: 0</th>\n",
              "      <th>Unnamed: 0.1</th>\n",
              "      <th>date</th>\n",
              "      <th>source</th>\n",
              "      <th>name</th>\n",
              "      <th>content</th>\n",
              "      <th>aggregated</th>\n",
              "    </tr>\n",
              "  </thead>\n",
              "  <tbody>\n",
              "    <tr>\n",
              "      <th>0</th>\n",
              "      <td>0</td>\n",
              "      <td>0</td>\n",
              "      <td>2018-02-01</td>\n",
              "      <td>DC Gazette</td>\n",
              "      <td>SHOCKER Key GOP House Member TREY GOWDY Not Se...</td>\n",
              "      <td>It wasnt exactly widely known, but South Carol...</td>\n",
              "      <td>1.0</td>\n",
              "    </tr>\n",
              "    <tr>\n",
              "      <th>1</th>\n",
              "      <td>1</td>\n",
              "      <td>1</td>\n",
              "      <td>2018-02-01</td>\n",
              "      <td>DC Gazette</td>\n",
              "      <td>Saudi Arabia Seizes BILLIONS In Anti-Corruptio...</td>\n",
              "      <td>Amazing what happens when a government activel...</td>\n",
              "      <td>1.0</td>\n",
              "    </tr>\n",
              "    <tr>\n",
              "      <th>2</th>\n",
              "      <td>2</td>\n",
              "      <td>2</td>\n",
              "      <td>2018-02-01</td>\n",
              "      <td>Freedom Outpost</td>\n",
              "      <td>10 Amazing Facts About Americas Economic Recov...</td>\n",
              "      <td>If the U.S. economy continues to surge under P...</td>\n",
              "      <td>1.0</td>\n",
              "    </tr>\n",
              "    <tr>\n",
              "      <th>3</th>\n",
              "      <td>3</td>\n",
              "      <td>3</td>\n",
              "      <td>2018-02-01</td>\n",
              "      <td>Freedom Outpost</td>\n",
              "      <td>Democrats Have Absolutely No Class They Put It...</td>\n",
              "      <td>After observing the despicable behavior of the...</td>\n",
              "      <td>1.0</td>\n",
              "    </tr>\n",
              "    <tr>\n",
              "      <th>4</th>\n",
              "      <td>4</td>\n",
              "      <td>4</td>\n",
              "      <td>2018-02-01</td>\n",
              "      <td>Freedom Outpost</td>\n",
              "      <td>ReleaseTheMemo Even Democrats Are Admitting Th...</td>\n",
              "      <td>Never before has there been so much talk about...</td>\n",
              "      <td>1.0</td>\n",
              "    </tr>\n",
              "  </tbody>\n",
              "</table>\n",
              "</div>"
            ],
            "text/plain": [
              "   Unnamed: 0  ...  aggregated\n",
              "0           0  ...         1.0\n",
              "1           1  ...         1.0\n",
              "2           2  ...         1.0\n",
              "3           3  ...         1.0\n",
              "4           4  ...         1.0\n",
              "\n",
              "[5 rows x 7 columns]"
            ]
          },
          "metadata": {
            "tags": []
          },
          "execution_count": 4
        }
      ]
    },
    {
      "cell_type": "markdown",
      "metadata": {
        "id": "MGa5gz9OVNHs",
        "colab_type": "text"
      },
      "source": [
        "#5. Data Prep: Curation\n",
        "\n",
        "1. Feature Selection and Extraction : what are the main features to use in this data set?\n",
        "\n",
        "This was done as part of Section 4 using SelectKBest and .corr\n",
        "\n",
        "2. Data Verification: Do we have enough data?\n",
        "\n",
        "Data was filtered to reduce the data size as discussed in Section 1.\n",
        "\n",
        "3. Possibility of Amalgamation1: Add Dataset 2\n",
        "\n",
        "Amalgamated Article DB with Labels dataset to get aggregated label for each source.\n",
        "\n",
        "4. Data Cleansing\n",
        "\n",
        "NLP lifecycle is followed:\n",
        "  * Drop rows with NULL values\n",
        "  * Convert strings to lowercase\n",
        "  * Remove stop words\n",
        "  * Lemmatize\n",
        "  * Stemming\n",
        "  * remove_punctuation\n",
        "\n",
        "\n"
      ]
    },
    {
      "cell_type": "markdown",
      "metadata": {
        "id": "hHSwB87JTDyU",
        "colab_type": "text"
      },
      "source": [
        "###Data cleaning"
      ]
    },
    {
      "cell_type": "code",
      "metadata": {
        "id": "JOCneJ9_SimX",
        "colab_type": "code",
        "colab": {}
      },
      "source": [
        "#method to remove punctuations from textual data\n",
        "def remove_punctuation(text):\n",
        "    translator = str.maketrans('', '', string.punctuation)\n",
        "    return text.translate(translator)"
      ],
      "execution_count": 0,
      "outputs": []
    },
    {
      "cell_type": "code",
      "metadata": {
        "id": "FJnziWJ0SvTR",
        "colab_type": "code",
        "colab": {}
      },
      "source": [
        "sw = stopwords.words('english')\n",
        "stemmer = SnowballStemmer(\"english\")\n",
        "\n",
        "#Remove stop words\n",
        "def remove_stopwords(text):\n",
        "    text = [word.lower() for word in text.split() if word.lower() not in sw]\n",
        "    return \" \".join(text)\n",
        "\n",
        "#Lemmetize and pos tagging\n",
        "def lemmatize_stemming(text):\n",
        "    return stemmer.stem(WordNetLemmatizer().lemmatize(text, pos='v'))\n",
        "\n",
        "#Stemming\n",
        "def stemming(text):    \n",
        "    text = [stemmer.stem(word) for word in text.split()]\n",
        "    return \" \".join(text)"
      ],
      "execution_count": 0,
      "outputs": []
    },
    {
      "cell_type": "code",
      "metadata": {
        "id": "7C9LuT87XSff",
        "colab_type": "code",
        "colab": {}
      },
      "source": [
        "def text_preprocess(df):\n",
        "    df = df[pd.notnull(df['name'])]\n",
        "    df = df[pd.notnull(df['source'])]\n",
        "    #convert to lower case\n",
        "    df['source'] = df['source'].str.lower()\n",
        "    #remove stop words\n",
        "    df['source'] = df['source'].apply(remove_stopwords)\n",
        "    #Lemmetize\n",
        "    df['source'] = df['source'].apply(lemmatize_stemming)\n",
        "    #stemming\n",
        "    df['source'] = df['source'].apply(stemming)\n",
        "    #remove punctuation\n",
        "    df['source'] = df['source'].apply(remove_punctuation)\n",
        "    #remove less than 3 letter words\n",
        "    df['source']  = df.source.apply(lambda i: ' '.join(filter(lambda j: len(j) > 3, i.split())))\n",
        "\n",
        "\n",
        "    #convert to lower case\n",
        "    df['name'] = df['name'].str.lower()\n",
        "    #remove stop words\n",
        "    df['name'] = df['name'].apply(remove_stopwords)\n",
        "    #Lemmetize\n",
        "    df['name'] = df['name'].apply(lemmatize_stemming)\n",
        "    #stemming\n",
        "    df['name'] = df['name'].apply(stemming)\n",
        "    #remove punctuation\n",
        "    df['name'] = df['name'].apply(remove_punctuation)\n",
        "    \n",
        "    return df[['source', 'name', 'aggregated']]"
      ],
      "execution_count": 0,
      "outputs": []
    },
    {
      "cell_type": "code",
      "metadata": {
        "id": "kYJ_XcaKXwJS",
        "colab_type": "code",
        "outputId": "0c62a2b3-16de-417c-f753-d7d27a88eaf3",
        "colab": {
          "base_uri": "https://localhost:8080/",
          "height": 204
        }
      },
      "source": [
        "#pre-processing train dataset\n",
        "df_processor = text_preprocess(data_in)\n",
        "df_processor.head(5)"
      ],
      "execution_count": 0,
      "outputs": [
        {
          "output_type": "execute_result",
          "data": {
            "text/html": [
              "<div>\n",
              "<style scoped>\n",
              "    .dataframe tbody tr th:only-of-type {\n",
              "        vertical-align: middle;\n",
              "    }\n",
              "\n",
              "    .dataframe tbody tr th {\n",
              "        vertical-align: top;\n",
              "    }\n",
              "\n",
              "    .dataframe thead th {\n",
              "        text-align: right;\n",
              "    }\n",
              "</style>\n",
              "<table border=\"1\" class=\"dataframe\">\n",
              "  <thead>\n",
              "    <tr style=\"text-align: right;\">\n",
              "      <th></th>\n",
              "      <th>source</th>\n",
              "      <th>name</th>\n",
              "      <th>aggregated</th>\n",
              "    </tr>\n",
              "  </thead>\n",
              "  <tbody>\n",
              "    <tr>\n",
              "      <th>0</th>\n",
              "      <td>gazett</td>\n",
              "      <td>shocker key gop hous member trey gowdi seek re...</td>\n",
              "      <td>1.0</td>\n",
              "    </tr>\n",
              "    <tr>\n",
              "      <th>1</th>\n",
              "      <td>gazett</td>\n",
              "      <td>saudi arabia seiz billion anticorrupt settl</td>\n",
              "      <td>1.0</td>\n",
              "    </tr>\n",
              "    <tr>\n",
              "      <th>2</th>\n",
              "      <td>freedom outpost</td>\n",
              "      <td>10 amaz fact america econom recoveri trump sta...</td>\n",
              "      <td>1.0</td>\n",
              "    </tr>\n",
              "    <tr>\n",
              "      <th>3</th>\n",
              "      <td>freedom outpost</td>\n",
              "      <td>democrat absolut class put display sotu</td>\n",
              "      <td>1.0</td>\n",
              "    </tr>\n",
              "    <tr>\n",
              "      <th>4</th>\n",
              "      <td>freedom outpost</td>\n",
              "      <td>releasethememo even democrat admit could get m...</td>\n",
              "      <td>1.0</td>\n",
              "    </tr>\n",
              "  </tbody>\n",
              "</table>\n",
              "</div>"
            ],
            "text/plain": [
              "            source  ... aggregated\n",
              "0           gazett  ...        1.0\n",
              "1           gazett  ...        1.0\n",
              "2  freedom outpost  ...        1.0\n",
              "3  freedom outpost  ...        1.0\n",
              "4  freedom outpost  ...        1.0\n",
              "\n",
              "[5 rows x 3 columns]"
            ]
          },
          "metadata": {
            "tags": []
          },
          "execution_count": 8
        }
      ]
    },
    {
      "cell_type": "code",
      "metadata": {
        "id": "dWaG8nkXZvRF",
        "colab_type": "code",
        "outputId": "0fa588a6-77d1-4879-f4b3-9d86161c7774",
        "colab": {
          "base_uri": "https://localhost:8080/",
          "height": 85
        }
      },
      "source": [
        "df_processor.dtypes"
      ],
      "execution_count": 0,
      "outputs": [
        {
          "output_type": "execute_result",
          "data": {
            "text/plain": [
              "source         object\n",
              "name           object\n",
              "aggregated    float64\n",
              "dtype: object"
            ]
          },
          "metadata": {
            "tags": []
          },
          "execution_count": 9
        }
      ]
    },
    {
      "cell_type": "code",
      "metadata": {
        "id": "PnA0LEJ6ZynP",
        "colab_type": "code",
        "outputId": "07e7d62d-9efc-458c-ae5a-3be0562d0168",
        "colab": {
          "base_uri": "https://localhost:8080/",
          "height": 419
        }
      },
      "source": [
        "df_processor.dropna(how='any',axis=0)"
      ],
      "execution_count": 0,
      "outputs": [
        {
          "output_type": "execute_result",
          "data": {
            "text/html": [
              "<div>\n",
              "<style scoped>\n",
              "    .dataframe tbody tr th:only-of-type {\n",
              "        vertical-align: middle;\n",
              "    }\n",
              "\n",
              "    .dataframe tbody tr th {\n",
              "        vertical-align: top;\n",
              "    }\n",
              "\n",
              "    .dataframe thead th {\n",
              "        text-align: right;\n",
              "    }\n",
              "</style>\n",
              "<table border=\"1\" class=\"dataframe\">\n",
              "  <thead>\n",
              "    <tr style=\"text-align: right;\">\n",
              "      <th></th>\n",
              "      <th>source</th>\n",
              "      <th>name</th>\n",
              "      <th>aggregated</th>\n",
              "    </tr>\n",
              "  </thead>\n",
              "  <tbody>\n",
              "    <tr>\n",
              "      <th>0</th>\n",
              "      <td>gazett</td>\n",
              "      <td>shocker key gop hous member trey gowdi seek re...</td>\n",
              "      <td>1.0</td>\n",
              "    </tr>\n",
              "    <tr>\n",
              "      <th>1</th>\n",
              "      <td>gazett</td>\n",
              "      <td>saudi arabia seiz billion anticorrupt settl</td>\n",
              "      <td>1.0</td>\n",
              "    </tr>\n",
              "    <tr>\n",
              "      <th>2</th>\n",
              "      <td>freedom outpost</td>\n",
              "      <td>10 amaz fact america econom recoveri trump sta...</td>\n",
              "      <td>1.0</td>\n",
              "    </tr>\n",
              "    <tr>\n",
              "      <th>3</th>\n",
              "      <td>freedom outpost</td>\n",
              "      <td>democrat absolut class put display sotu</td>\n",
              "      <td>1.0</td>\n",
              "    </tr>\n",
              "    <tr>\n",
              "      <th>4</th>\n",
              "      <td>freedom outpost</td>\n",
              "      <td>releasethememo even democrat admit could get m...</td>\n",
              "      <td>1.0</td>\n",
              "    </tr>\n",
              "    <tr>\n",
              "      <th>...</th>\n",
              "      <td>...</td>\n",
              "      <td>...</td>\n",
              "      <td>...</td>\n",
              "    </tr>\n",
              "    <tr>\n",
              "      <th>20036</th>\n",
              "      <td>washington</td>\n",
              "      <td>capit journal trump stand saudi arabia overloo...</td>\n",
              "      <td>5.0</td>\n",
              "    </tr>\n",
              "    <tr>\n",
              "      <th>20037</th>\n",
              "      <td>washington</td>\n",
              "      <td>capit journal trump border call us urg alli sh...</td>\n",
              "      <td>5.0</td>\n",
              "    </tr>\n",
              "    <tr>\n",
              "      <th>20038</th>\n",
              "      <td>washington</td>\n",
              "      <td>capit journal critic lameduck session commenc ...</td>\n",
              "      <td>5.0</td>\n",
              "    </tr>\n",
              "    <tr>\n",
              "      <th>20039</th>\n",
              "      <td>washington</td>\n",
              "      <td>capit journal trump talk china gm wsj mississi...</td>\n",
              "      <td>5.0</td>\n",
              "    </tr>\n",
              "    <tr>\n",
              "      <th>20040</th>\n",
              "      <td>washington</td>\n",
              "      <td>capit journal newslett democrat rift trump chi...</td>\n",
              "      <td>5.0</td>\n",
              "    </tr>\n",
              "  </tbody>\n",
              "</table>\n",
              "<p>20040 rows × 3 columns</p>\n",
              "</div>"
            ],
            "text/plain": [
              "                source  ... aggregated\n",
              "0               gazett  ...        1.0\n",
              "1               gazett  ...        1.0\n",
              "2      freedom outpost  ...        1.0\n",
              "3      freedom outpost  ...        1.0\n",
              "4      freedom outpost  ...        1.0\n",
              "...                ...  ...        ...\n",
              "20036       washington  ...        5.0\n",
              "20037       washington  ...        5.0\n",
              "20038       washington  ...        5.0\n",
              "20039       washington  ...        5.0\n",
              "20040       washington  ...        5.0\n",
              "\n",
              "[20040 rows x 3 columns]"
            ]
          },
          "metadata": {
            "tags": []
          },
          "execution_count": 10
        }
      ]
    },
    {
      "cell_type": "code",
      "metadata": {
        "id": "XItJ-hvBZ0gt",
        "colab_type": "code",
        "outputId": "ea4af0cd-6233-4632-feec-21c89d44eaa4",
        "colab": {
          "base_uri": "https://localhost:8080/",
          "height": 34
        }
      },
      "source": [
        "df_processor.shape"
      ],
      "execution_count": 0,
      "outputs": [
        {
          "output_type": "execute_result",
          "data": {
            "text/plain": [
              "(20040, 3)"
            ]
          },
          "metadata": {
            "tags": []
          },
          "execution_count": 11
        }
      ]
    },
    {
      "cell_type": "code",
      "metadata": {
        "id": "mKMpXtdMZ2KC",
        "colab_type": "code",
        "outputId": "fed6c957-6319-4eed-ee09-2f849b7124be",
        "colab": {
          "base_uri": "https://localhost:8080/",
          "height": 204
        }
      },
      "source": [
        "df_processor.head()"
      ],
      "execution_count": 0,
      "outputs": [
        {
          "output_type": "execute_result",
          "data": {
            "text/html": [
              "<div>\n",
              "<style scoped>\n",
              "    .dataframe tbody tr th:only-of-type {\n",
              "        vertical-align: middle;\n",
              "    }\n",
              "\n",
              "    .dataframe tbody tr th {\n",
              "        vertical-align: top;\n",
              "    }\n",
              "\n",
              "    .dataframe thead th {\n",
              "        text-align: right;\n",
              "    }\n",
              "</style>\n",
              "<table border=\"1\" class=\"dataframe\">\n",
              "  <thead>\n",
              "    <tr style=\"text-align: right;\">\n",
              "      <th></th>\n",
              "      <th>source</th>\n",
              "      <th>name</th>\n",
              "      <th>aggregated</th>\n",
              "    </tr>\n",
              "  </thead>\n",
              "  <tbody>\n",
              "    <tr>\n",
              "      <th>0</th>\n",
              "      <td>gazett</td>\n",
              "      <td>shocker key gop hous member trey gowdi seek re...</td>\n",
              "      <td>1.0</td>\n",
              "    </tr>\n",
              "    <tr>\n",
              "      <th>1</th>\n",
              "      <td>gazett</td>\n",
              "      <td>saudi arabia seiz billion anticorrupt settl</td>\n",
              "      <td>1.0</td>\n",
              "    </tr>\n",
              "    <tr>\n",
              "      <th>2</th>\n",
              "      <td>freedom outpost</td>\n",
              "      <td>10 amaz fact america econom recoveri trump sta...</td>\n",
              "      <td>1.0</td>\n",
              "    </tr>\n",
              "    <tr>\n",
              "      <th>3</th>\n",
              "      <td>freedom outpost</td>\n",
              "      <td>democrat absolut class put display sotu</td>\n",
              "      <td>1.0</td>\n",
              "    </tr>\n",
              "    <tr>\n",
              "      <th>4</th>\n",
              "      <td>freedom outpost</td>\n",
              "      <td>releasethememo even democrat admit could get m...</td>\n",
              "      <td>1.0</td>\n",
              "    </tr>\n",
              "  </tbody>\n",
              "</table>\n",
              "</div>"
            ],
            "text/plain": [
              "            source  ... aggregated\n",
              "0           gazett  ...        1.0\n",
              "1           gazett  ...        1.0\n",
              "2  freedom outpost  ...        1.0\n",
              "3  freedom outpost  ...        1.0\n",
              "4  freedom outpost  ...        1.0\n",
              "\n",
              "[5 rows x 3 columns]"
            ]
          },
          "metadata": {
            "tags": []
          },
          "execution_count": 12
        }
      ]
    },
    {
      "cell_type": "code",
      "metadata": {
        "id": "pNxwOVQr1mxL",
        "colab_type": "code",
        "colab": {}
      },
      "source": [
        "import numpy as np\n",
        "df_processor['aggregated'] = df_processor['aggregated'].apply(np.int64)"
      ],
      "execution_count": 0,
      "outputs": []
    },
    {
      "cell_type": "markdown",
      "metadata": {
        "id": "o2jWUoqMWT1d",
        "colab_type": "text"
      },
      "source": [
        "##Split train and test"
      ]
    },
    {
      "cell_type": "code",
      "metadata": {
        "id": "TIFaBVlFzbHQ",
        "colab_type": "code",
        "colab": {}
      },
      "source": [
        "from sklearn.model_selection import train_test_split\n",
        "X_train, X_test, y_train, y_test = train_test_split(df_processor[['source', 'name']], df_processor['aggregated'], test_size=0.25, random_state=42)\n"
      ],
      "execution_count": 0,
      "outputs": []
    },
    {
      "cell_type": "code",
      "metadata": {
        "id": "oSkF71k8cci9",
        "colab_type": "code",
        "colab": {}
      },
      "source": [
        "tfidf = TfidfVectorizer(min_df=3, max_features=None, strip_accents='unicode',\n",
        "                                   analyzer='word', token_pattern=r'\\w{1,}', ngram_range=(1,5),\n",
        "                                   use_idf=1, smooth_idf=1, sublinear_tf=1, lowercase=False)"
      ],
      "execution_count": 0,
      "outputs": []
    },
    {
      "cell_type": "code",
      "metadata": {
        "id": "ucyPLOSa0RG4",
        "colab_type": "code",
        "colab": {}
      },
      "source": [
        "X_train_source = tfidf.fit_transform(X_train['source'])\n",
        "X_test_source  = tfidf.transform(X_test['source'])"
      ],
      "execution_count": 0,
      "outputs": []
    },
    {
      "cell_type": "code",
      "metadata": {
        "id": "7f_mYWwO0YQK",
        "colab_type": "code",
        "colab": {}
      },
      "source": [
        "X_train_name = tfidf.fit_transform(X_train['name'])\n",
        "X_test_name  = tfidf.transform(X_test['name'])"
      ],
      "execution_count": 0,
      "outputs": []
    },
    {
      "cell_type": "code",
      "metadata": {
        "id": "xTNIBKGw0n08",
        "colab_type": "code",
        "colab": {}
      },
      "source": [
        "X_train_transformed = sparse.hstack([X_train_source, X_train_name]).tocsr()\n",
        "X_test_transformed  = sparse.hstack([X_test_source, X_test_name]).tocsr()"
      ],
      "execution_count": 0,
      "outputs": []
    },
    {
      "cell_type": "markdown",
      "metadata": {
        "id": "vduKOeiFVIwn",
        "colab_type": "text"
      },
      "source": [
        "#4. Exploratory Data Analysis and Visualization"
      ]
    },
    {
      "cell_type": "markdown",
      "metadata": {
        "id": "isxPfbPXaS52",
        "colab_type": "text"
      },
      "source": [
        "##4.1 feature analysis and engineering (for ML, for DL it's feature extraction)\n"
      ]
    },
    {
      "cell_type": "markdown",
      "metadata": {
        "id": "8t8I3-iRaWoS",
        "colab_type": "text"
      },
      "source": [
        "###Information of dataset\n",
        "\n",
        "The source and name are text and need to be converted to vector. Aggregated value of label is an integer."
      ]
    },
    {
      "cell_type": "code",
      "metadata": {
        "id": "MOPwAXUHajEf",
        "colab_type": "code",
        "outputId": "35e52895-3150-4e06-8d9f-df4e76916cc7",
        "colab": {
          "base_uri": "https://localhost:8080/",
          "height": 153
        }
      },
      "source": [
        "#information of dataset\n",
        "df_processor.info()"
      ],
      "execution_count": 0,
      "outputs": [
        {
          "output_type": "stream",
          "text": [
            "<class 'pandas.core.frame.DataFrame'>\n",
            "Int64Index: 20040 entries, 0 to 20040\n",
            "Data columns (total 3 columns):\n",
            "source        20040 non-null object\n",
            "name          20040 non-null object\n",
            "aggregated    20040 non-null int64\n",
            "dtypes: int64(1), object(2)\n",
            "memory usage: 626.2+ KB\n"
          ],
          "name": "stdout"
        }
      ]
    },
    {
      "cell_type": "markdown",
      "metadata": {
        "id": "uLBPlG9Yasts",
        "colab_type": "text"
      },
      "source": [
        "##4.2 Analyze data "
      ]
    },
    {
      "cell_type": "markdown",
      "metadata": {
        "id": "lPKieR36avWr",
        "colab_type": "text"
      },
      "source": [
        "###Check for null values\n",
        "Dataset looks clean as no null values"
      ]
    },
    {
      "cell_type": "code",
      "metadata": {
        "id": "dvslLUJBa2U3",
        "colab_type": "code",
        "outputId": "d8f3206e-ab70-43a3-c506-2bc6bccf5cee",
        "colab": {
          "base_uri": "https://localhost:8080/",
          "height": 85
        }
      },
      "source": [
        "#checking null values\n",
        "df_processor.isnull().sum()"
      ],
      "execution_count": 0,
      "outputs": [
        {
          "output_type": "execute_result",
          "data": {
            "text/plain": [
              "source        0\n",
              "name          0\n",
              "aggregated    0\n",
              "dtype: int64"
            ]
          },
          "metadata": {
            "tags": []
          },
          "execution_count": 25
        }
      ]
    },
    {
      "cell_type": "markdown",
      "metadata": {
        "id": "IpIKS4uIa7BD",
        "colab_type": "text"
      },
      "source": [
        "##4.3 Visualization"
      ]
    },
    {
      "cell_type": "code",
      "metadata": {
        "id": "3WGKNd-Na_J9",
        "colab_type": "code",
        "colab": {}
      },
      "source": [
        "def fake_news_distribution(df):\n",
        "    #Training data set with text, domain ranking and type.\n",
        "    X = df[['source', 'aggregated']]\n",
        "\n",
        "    plt.title('Category Vs Count')\n",
        "    X.groupby(['aggregated']).size().plot(kind='barh', color='blue')\n",
        "    plt.xlabel('count')\n",
        "    plt.show()"
      ],
      "execution_count": 0,
      "outputs": []
    },
    {
      "cell_type": "code",
      "metadata": {
        "id": "PuOz1T0HbC61",
        "colab_type": "code",
        "outputId": "06db2e06-a036-43fb-94bb-e556c855c25e",
        "colab": {
          "base_uri": "https://localhost:8080/",
          "height": 312
        }
      },
      "source": [
        "print('Fake News Aggregated Label Destribution')\n",
        "fake_news_distribution(df_processor)"
      ],
      "execution_count": 0,
      "outputs": [
        {
          "output_type": "stream",
          "text": [
            "Fake News Aggregated Label Destribution\n"
          ],
          "name": "stdout"
        },
        {
          "output_type": "display_data",
          "data": {
            "image/png": "[encoded data removed]",
            "text/plain": [
              "<Figure size 432x288 with 1 Axes>"
            ]
          },
          "metadata": {
            "tags": []
          }
        }
      ]
    },
    {
      "cell_type": "markdown",
      "metadata": {
        "id": "NboIUs85byEt",
        "colab_type": "text"
      },
      "source": [
        "###word2vec an tSNE"
      ]
    },
    {
      "cell_type": "code",
      "metadata": {
        "id": "Lgttgpvdb3eO",
        "colab_type": "code",
        "outputId": "46696a24-3c10-42f1-f596-b8900c92c2a7",
        "colab": {
          "base_uri": "https://localhost:8080/",
          "height": 187
        }
      },
      "source": [
        "# Grab all the titles \n",
        "article_titles = df_processor['name']\n",
        "# Create a list of strings, one for each title\n",
        "titles_list = [title for title in article_titles]\n",
        "\n",
        "# Collapse the list of strings into a single long string for processing\n",
        "big_title_string = ' '.join(titles_list)\n",
        "\n",
        "from nltk.tokenize import word_tokenize\n",
        "\n",
        "# Tokenize the string into words\n",
        "tokens = word_tokenize(big_title_string)\n",
        "\n",
        "# Remove non-alphabetic tokens, such as punctuation\n",
        "words = [word.lower() for word in tokens if word.isalpha()]\n",
        "\n",
        "# Filter out stopwords\n",
        "from nltk.corpus import stopwords\n",
        "stop_words = set(stopwords.words('english'))\n",
        "\n",
        "words = [word for word in words if not word in stop_words]\n",
        "\n",
        "# Print first 10 words\n",
        "words[:10]"
      ],
      "execution_count": 0,
      "outputs": [
        {
          "output_type": "execute_result",
          "data": {
            "text/plain": [
              "['shocker',\n",
              " 'key',\n",
              " 'gop',\n",
              " 'hous',\n",
              " 'member',\n",
              " 'trey',\n",
              " 'gowdi',\n",
              " 'seek',\n",
              " 'reelect',\n",
              " 'saudi']"
            ]
          },
          "metadata": {
            "tags": []
          },
          "execution_count": 28
        }
      ]
    },
    {
      "cell_type": "code",
      "metadata": {
        "id": "w5xghKthcCoV",
        "colab_type": "code",
        "outputId": "374e2799-44ea-4459-9730-2dca121b88d5",
        "colab": {
          "base_uri": "https://localhost:8080/",
          "height": 204
        }
      },
      "source": [
        "! wget https://s3.amazonaws.com/dl4j-distribution/GoogleNews-vectors-negative300.bin.gz"
      ],
      "execution_count": 0,
      "outputs": [
        {
          "output_type": "stream",
          "text": [
            "--2019-12-17 19:57:51--  https://s3.amazonaws.com/dl4j-distribution/GoogleNews-vectors-negative300.bin.gz\n",
            "Resolving s3.amazonaws.com (s3.amazonaws.com)... 52.216.185.29\n",
            "Connecting to s3.amazonaws.com (s3.amazonaws.com)|52.216.185.29|:443... connected.\n",
            "HTTP request sent, awaiting response... 200 OK\n",
            "Length: 1647046227 (1.5G) [application/x-gzip]\n",
            "Saving to: ‘GoogleNews-vectors-negative300.bin.gz’\n",
            "\n",
            "GoogleNews-vectors- 100%[===================>]   1.53G  41.2MB/s    in 38s     \n",
            "\n",
            "2019-12-17 19:58:30 (41.0 MB/s) - ‘GoogleNews-vectors-negative300.bin.gz’ saved [1647046227/1647046227]\n",
            "\n"
          ],
          "name": "stdout"
        }
      ]
    },
    {
      "cell_type": "code",
      "metadata": {
        "id": "92kEWRaGcF4A",
        "colab_type": "code",
        "outputId": "7b6f8457-ca8c-4a79-d80a-ee248af1921c",
        "colab": {
          "base_uri": "https://localhost:8080/",
          "height": 88
        }
      },
      "source": [
        "# Load word2vec model (trained on an enormous Google corpus)\n",
        "model = gensim.models.KeyedVectors.load_word2vec_format('GoogleNews-vectors-negative300.bin.gz', binary=True)\n",
        "\n",
        "\n",
        "# Check dimension of word vectors\n",
        "model.vector_size"
      ],
      "execution_count": 0,
      "outputs": [
        {
          "output_type": "stream",
          "text": [
            "/usr/local/lib/python3.6/dist-packages/smart_open/smart_open_lib.py:402: UserWarning: This function is deprecated, use smart_open.open instead. See the migration notes for details: https://github.com/RaRe-Technologies/smart_open/blob/master/README.rst#migrating-to-the-new-open-function\n",
            "  'See the migration notes for details: %s' % _MIGRATION_NOTES_URL\n"
          ],
          "name": "stderr"
        },
        {
          "output_type": "execute_result",
          "data": {
            "text/plain": [
              "300"
            ]
          },
          "metadata": {
            "tags": []
          },
          "execution_count": 33
        }
      ]
    },
    {
      "cell_type": "code",
      "metadata": {
        "id": "D0R-txzXcKo-",
        "colab_type": "code",
        "outputId": "36a4bd01-2846-4546-e355-ec23982a6759",
        "colab": {
          "base_uri": "https://localhost:8080/",
          "height": 102
        }
      },
      "source": [
        "economy_vec = model['economy']\n",
        "economy_vec[:20] # First 20 components"
      ],
      "execution_count": 0,
      "outputs": [
        {
          "output_type": "execute_result",
          "data": {
            "text/plain": [
              "array([ 0.18847656, -0.0703125 , -0.16113281,  0.03857422, -0.04956055,\n",
              "       -0.23046875, -0.15722656, -0.16992188,  0.17089844, -0.01208496,\n",
              "       -0.16015625, -0.02770996,  0.05932617,  0.00491333, -0.13769531,\n",
              "        0.39257812,  0.06201172,  0.30859375,  0.12890625, -0.07373047],\n",
              "      dtype=float32)"
            ]
          },
          "metadata": {
            "tags": []
          },
          "execution_count": 34
        }
      ]
    },
    {
      "cell_type": "code",
      "metadata": {
        "id": "7qm7gxGzcPp8",
        "colab_type": "code",
        "colab": {}
      },
      "source": [
        "def document_vector(word2vec_model, doc):\n",
        "    # remove out-of-vocabulary words\n",
        "    doc = [word for word in doc if word in model.vocab]\n",
        "    return np.mean(model[doc], axis=0)\n",
        "\n",
        "# Our earlier preprocessing was done when we were dealing only with word vectors\n",
        "# Here, we need each document to remain a document \n",
        "def preprocess(text):\n",
        "    text = text.lower()\n",
        "    doc = word_tokenize(text)\n",
        "    doc = [word for word in doc if word not in stop_words]\n",
        "    doc = [word for word in doc if word.isalpha()] \n",
        "    return doc\n",
        "\n",
        "# Function that will help us drop documents that have no word vectors in word2vec\n",
        "def has_vector_representation(word2vec_model, doc):\n",
        "    \"\"\"check if at least one word of the document is in the\n",
        "    word2vec dictionary\"\"\"\n",
        "    return not all(word not in word2vec_model.vocab for word in doc)\n",
        "\n",
        "# Filter out documents\n",
        "def filter_docs(corpus, texts, condition_on_doc):\n",
        "    \"\"\"\n",
        "    Filter corpus and texts given the function condition_on_doc which takes\n",
        "    a doc. The document doc is kept if condition_on_doc(doc) is true.\n",
        "    \"\"\"\n",
        "    number_of_docs = len(corpus)\n",
        "\n",
        "    if texts is not None:\n",
        "        texts = [text for (text, doc) in zip(texts, corpus)\n",
        "                 if condition_on_doc(doc)]\n",
        "\n",
        "    corpus = [doc for doc in corpus if condition_on_doc(doc)]\n",
        "\n",
        "    print(\"{} docs removed\".format(number_of_docs - len(corpus)))\n",
        "\n",
        "    return (corpus, texts)"
      ],
      "execution_count": 0,
      "outputs": []
    },
    {
      "cell_type": "code",
      "metadata": {
        "id": "AM1St8E4cjQo",
        "colab_type": "code",
        "outputId": "9ac01a1f-d099-4160-9e78-c4a63daed2d6",
        "colab": {
          "base_uri": "https://localhost:8080/",
          "height": 51
        }
      },
      "source": [
        "# Preprocess the corpus\n",
        "corpus = [preprocess(title) for title in titles_list]\n",
        "\n",
        "# Remove docs that don't include any words in W2V's vocab\n",
        "corpus, titles_list = filter_docs(corpus, titles_list, lambda doc: has_vector_representation(model, doc))\n",
        "\n",
        "# Filter out any empty docs\n",
        "corpus, titles_list = filter_docs(corpus, titles_list, lambda doc: (len(doc) != 0))"
      ],
      "execution_count": 0,
      "outputs": [
        {
          "output_type": "stream",
          "text": [
            "0 docs removed\n",
            "0 docs removed\n"
          ],
          "name": "stdout"
        }
      ]
    },
    {
      "cell_type": "code",
      "metadata": {
        "id": "ohTTY1IXcq3X",
        "colab_type": "code",
        "colab": {}
      },
      "source": [
        "# Initialize an array for the size of the corpus\n",
        "x = []\n",
        "for doc in corpus: # append the vector for each document\n",
        "    x.append(document_vector(model, doc))\n",
        "    \n",
        "X = np.array(x) # list to array"
      ],
      "execution_count": 0,
      "outputs": []
    },
    {
      "cell_type": "code",
      "metadata": {
        "id": "uqa9kxZzctOd",
        "colab_type": "code",
        "colab": {}
      },
      "source": [
        "from sklearn.manifold import TSNE\n",
        "# Initialize t-SNE\n",
        "tsne = TSNE(n_components = 2, init = 'random', random_state = 10, perplexity = 100)\n",
        "\n",
        "# Use only 400 rows to shorten processing time\n",
        "tsne_df = tsne.fit_transform(X[:400])"
      ],
      "execution_count": 0,
      "outputs": []
    },
    {
      "cell_type": "code",
      "metadata": {
        "id": "dLTNJH-ecyrQ",
        "colab_type": "code",
        "outputId": "cc9264e8-e06b-415f-be87-d8c92b5b5f09",
        "colab": {
          "base_uri": "https://localhost:8080/",
          "height": 326
        }
      },
      "source": [
        "!pip install adjustText"
      ],
      "execution_count": 0,
      "outputs": [
        {
          "output_type": "stream",
          "text": [
            "Collecting adjustText\n",
            "  Downloading https://files.pythonhosted.org/packages/9e/15/4157718bf323fd5f5b81c891c660d0f388e042d2689a558bf1389632dc44/adjustText-0.7.3.tar.gz\n",
            "Requirement already satisfied: numpy in /usr/local/lib/python3.6/dist-packages (from adjustText) (1.17.4)\n",
            "Requirement already satisfied: matplotlib in /usr/local/lib/python3.6/dist-packages (from adjustText) (3.1.2)\n",
            "Requirement already satisfied: pyparsing!=2.0.4,!=2.1.2,!=2.1.6,>=2.0.1 in /usr/local/lib/python3.6/dist-packages (from matplotlib->adjustText) (2.4.5)\n",
            "Requirement already satisfied: cycler>=0.10 in /usr/local/lib/python3.6/dist-packages (from matplotlib->adjustText) (0.10.0)\n",
            "Requirement already satisfied: kiwisolver>=1.0.1 in /usr/local/lib/python3.6/dist-packages (from matplotlib->adjustText) (1.1.0)\n",
            "Requirement already satisfied: python-dateutil>=2.1 in /usr/local/lib/python3.6/dist-packages (from matplotlib->adjustText) (2.6.1)\n",
            "Requirement already satisfied: six in /usr/local/lib/python3.6/dist-packages (from cycler>=0.10->matplotlib->adjustText) (1.12.0)\n",
            "Requirement already satisfied: setuptools in /usr/local/lib/python3.6/dist-packages (from kiwisolver>=1.0.1->matplotlib->adjustText) (42.0.2)\n",
            "Building wheels for collected packages: adjustText\n",
            "  Building wheel for adjustText (setup.py) ... \u001b[?25l\u001b[?25hdone\n",
            "  Created wheel for adjustText: filename=adjustText-0.7.3-cp36-none-any.whl size=7099 sha256=a132760bd795a4106207d26933dc731c3c51b2bc23f1c61602011b108d3682d7\n",
            "  Stored in directory: /root/.cache/pip/wheels/41/95/74/7d347e136d672f8bc28e937032bc92baf4f80856763a7e7b72\n",
            "Successfully built adjustText\n",
            "Installing collected packages: adjustText\n",
            "Successfully installed adjustText-0.7.3\n"
          ],
          "name": "stdout"
        }
      ]
    },
    {
      "cell_type": "code",
      "metadata": {
        "id": "cNkBkrVZc0g6",
        "colab_type": "code",
        "outputId": "f3afd51d-97e7-4fa2-dd4e-725c5f7ad8b5",
        "colab": {
          "base_uri": "https://localhost:8080/",
          "height": 592
        }
      },
      "source": [
        "import seaborn as sns\n",
        "from adjustText import adjust_text\n",
        "\n",
        "fig, ax = plt.subplots(figsize = (14, 10))\n",
        "sns.scatterplot(tsne_df[:, 0], tsne_df[:, 1], alpha = 0.5)\n",
        "\n",
        "# Second plot: Import adjustText, initialize list of texts\n",
        "from adjustText import adjust_text\n",
        "texts = []\n",
        "titles_to_plot = list(np.arange(0, 400, 40)) # plots every 40th title in first 400 titles\n",
        "\n",
        "# Append words to list\n",
        "for title in titles_to_plot:\n",
        "    texts.append(plt.text(tsne_df[title, 0], tsne_df[title, 1], titles_list[title], fontsize = 14))\n",
        "    \n",
        "# Plot text using adjust_text (because overlapping text is hard to read)\n",
        "adjust_text(texts, force_points = 0.4, force_text = 0.4, \n",
        "            expand_points = (2,1), expand_text = (1,2),\n",
        "            arrowprops = dict(arrowstyle = \"-\", color = 'black', lw = 0.5))\n",
        "\n",
        "plt.show()"
      ],
      "execution_count": 0,
      "outputs": [
        {
          "output_type": "display_data",
          "data": {
            "image/png": "[encoded data removed]",
            "text/plain": [
              "<Figure size 1008x720 with 1 Axes>"
            ]
          },
          "metadata": {
            "tags": []
          }
        }
      ]
    },
    {
      "cell_type": "markdown",
      "metadata": {
        "id": "hHZen2-Wdl00",
        "colab_type": "text"
      },
      "source": [
        "###Word Cloud "
      ]
    },
    {
      "cell_type": "code",
      "metadata": {
        "id": "0URZbfwmdoyB",
        "colab_type": "code",
        "colab": {}
      },
      "source": [
        "#Word Cloud to Visualize important text\n",
        "# lower max_font_size, change the maximum number of word and lighten the background\n",
        "\n",
        "def word_cloud_visualization(df):\n",
        "    text = \" \".join(ht for ht in df['name'])\n",
        "    wordcloud = WordCloud(max_font_size=50, max_words=100, background_color=\"white\").generate(text)\n",
        "    plt.figure()\n",
        "    plt.imshow(wordcloud, interpolation=\"bilinear\")\n",
        "    plt.axis(\"off\")\n",
        "    plt.show()"
      ],
      "execution_count": 0,
      "outputs": []
    },
    {
      "cell_type": "code",
      "metadata": {
        "id": "jDT2QKPXdvzL",
        "colab_type": "code",
        "outputId": "3dc1d682-0879-418f-e386-ed722767e337",
        "colab": {
          "base_uri": "https://localhost:8080/",
          "height": 215
        }
      },
      "source": [
        "\n",
        "print('Word Cloud Visualization')\n",
        "word_cloud_visualization(df_processor)\n"
      ],
      "execution_count": 0,
      "outputs": [
        {
          "output_type": "stream",
          "text": [
            "Word Cloud Visualization\n"
          ],
          "name": "stdout"
        },
        {
          "output_type": "display_data",
          "data": {
            "image/png": "[encoded data removed]",
            "text/plain": [
              "<Figure size 432x288 with 1 Axes>"
            ]
          },
          "metadata": {
            "tags": []
          }
        }
      ]
    },
    {
      "cell_type": "markdown",
      "metadata": {
        "id": "m3z0_4jvfx8n",
        "colab_type": "text"
      },
      "source": [
        "#6. Unsupervised Exploration : Find relevant Clusters in Your Data\n",
        "1. How many clusters? Explore different k’s…\n",
        "\n",
        "Plotted Elbow which shows Best K value is inbetween 3 and 4. SO plotted GMM with 3 and Kmean using 4\n",
        "2. Select Clustering algorithms, run several and compare in a table\n",
        "\n",
        "**silhouette_score of**\n",
        "\n",
        "* GMM is : -0.0055538104\n",
        "* Kmean is: -0.0055538104\n",
        "\n",
        "3. What does each cluster mean? How do they contribute to your Data Narrative (Story)\n",
        "There are the clusters for the article titles. Clusters looks very cluttered and silhouette_score is also not good. Which kind of indicates that the articles are from different sources, different topics and can not be really grouped into clusters."
      ]
    },
    {
      "cell_type": "markdown",
      "metadata": {
        "id": "Te7CtrgIf_so",
        "colab_type": "text"
      },
      "source": [
        "###Elbow"
      ]
    },
    {
      "cell_type": "code",
      "metadata": {
        "id": "0_VtX-HQf96e",
        "colab_type": "code",
        "outputId": "870755ad-ea5c-48c6-dfed-1d369cf8f629",
        "colab": {
          "base_uri": "https://localhost:8080/",
          "height": 353
        }
      },
      "source": [
        "from sklearn.cluster import KMeans\n",
        "\n",
        "#X --> document term matrix from section  \"word2vec an tSNE\" above\n",
        "\n",
        "distorsions = []\n",
        "for k in range(1, 10):\n",
        "    k_means = KMeans(n_clusters=k)\n",
        "    k_means.fit(X)\n",
        "    distorsions.append(k_means.inertia_)\n",
        "fig = plt.figure(figsize=(10, 5))\n",
        "plt.plot(range(1, 10), distorsions)\n",
        "plt.grid(True)\n",
        "plt.title('Elbow curve')"
      ],
      "execution_count": 0,
      "outputs": [
        {
          "output_type": "execute_result",
          "data": {
            "text/plain": [
              "Text(0.5, 1.0, 'Elbow curve')"
            ]
          },
          "metadata": {
            "tags": []
          },
          "execution_count": 52
        },
        {
          "output_type": "display_data",
          "data": {
            "image/png": "[encoded data removed]",
            "text/plain": [
              "<Figure size 720x360 with 1 Axes>"
            ]
          },
          "metadata": {
            "tags": []
          }
        }
      ]
    },
    {
      "cell_type": "markdown",
      "metadata": {
        "id": "-pPx8gy7hu8t",
        "colab_type": "text"
      },
      "source": [
        "###GMM"
      ]
    },
    {
      "cell_type": "code",
      "metadata": {
        "id": "qcoROJ4UhwO-",
        "colab_type": "code",
        "outputId": "f1bcfc5d-5f06-41e4-fc6b-7419f39e3cc4",
        "colab": {
          "base_uri": "https://localhost:8080/",
          "height": 319
        }
      },
      "source": [
        "from sklearn.mixture import GaussianMixture\n",
        "\n",
        "gmm = GaussianMixture(n_components=3).fit(X)\n",
        "labels = gmm.predict(X)\n",
        "plt.scatter(X[:, 0], X[:, 1], c=labels, s=40, cmap='viridis');"
      ],
      "execution_count": 0,
      "outputs": [
        {
          "output_type": "stream",
          "text": [
            "/usr/local/lib/python3.6/dist-packages/sklearn/mixture/base.py:265: ConvergenceWarning: Initialization 1 did not converge. Try different init parameters, or increase max_iter, tol or check for degenerate data.\n",
            "  % (init + 1), ConvergenceWarning)\n"
          ],
          "name": "stderr"
        },
        {
          "output_type": "display_data",
          "data": {
            "image/png": "[encoded data removed]",
            "text/plain": [
              "<Figure size 432x288 with 1 Axes>"
            ]
          },
          "metadata": {
            "tags": []
          }
        }
      ]
    },
    {
      "cell_type": "code",
      "metadata": {
        "id": "LNEfiMqYiH-0",
        "colab_type": "code",
        "outputId": "98a8dd81-fe1e-4154-9a95-944bbd890e36",
        "colab": {
          "base_uri": "https://localhost:8080/",
          "height": 34
        }
      },
      "source": [
        "from sklearn.metrics import silhouette_score\n",
        "\n",
        "silhouette_score(X, labels)"
      ],
      "execution_count": 0,
      "outputs": [
        {
          "output_type": "execute_result",
          "data": {
            "text/plain": [
              "-0.0055538104"
            ]
          },
          "metadata": {
            "tags": []
          },
          "execution_count": 57
        }
      ]
    },
    {
      "cell_type": "markdown",
      "metadata": {
        "id": "H_j5xmkGh94U",
        "colab_type": "text"
      },
      "source": [
        "###Kmean"
      ]
    },
    {
      "cell_type": "code",
      "metadata": {
        "id": "-PHWCLW0h_dv",
        "colab_type": "code",
        "outputId": "bbfe902a-9b72-497d-fad9-f216467b8dde",
        "colab": {
          "base_uri": "https://localhost:8080/",
          "height": 281
        }
      },
      "source": [
        "kmeans = KMeans(n_clusters = 4).fit(X)\n",
        "centroids = kmeans.cluster_centers_\n",
        "plt.scatter(X[:,0],X[:,1], c = kmeans.labels_, cmap =\"rainbow\")\n",
        "plt.title(\"K-means clustering with SKLearn framework\")\n",
        "plt.show()"
      ],
      "execution_count": 0,
      "outputs": [
        {
          "output_type": "display_data",
          "data": {
            "image/png": "[encoded data removed]",
            "text/plain": [
              "<Figure size 432x288 with 1 Axes>"
            ]
          },
          "metadata": {
            "tags": []
          }
        }
      ]
    },
    {
      "cell_type": "code",
      "metadata": {
        "id": "KXMz4m0jiJEn",
        "colab_type": "code",
        "outputId": "bb26ea4c-9c72-48f5-9eab-82b29f421d64",
        "colab": {
          "base_uri": "https://localhost:8080/",
          "height": 34
        }
      },
      "source": [
        "silhouette_score(X, labels)"
      ],
      "execution_count": 0,
      "outputs": [
        {
          "output_type": "execute_result",
          "data": {
            "text/plain": [
              "-0.0055538104"
            ]
          },
          "metadata": {
            "tags": []
          },
          "execution_count": 59
        }
      ]
    },
    {
      "cell_type": "markdown",
      "metadata": {
        "id": "WdzU7QSzjmpM",
        "colab_type": "text"
      },
      "source": [
        "#7. Supervised Training Preparation: Data Curation : label your data set\n",
        "\n",
        "1. Classify Your Data Sets : Run different classification algorithms\n",
        "Check further for classification algorithms:\n",
        "* Multinomial Bayes\n",
        "* Descision Tree\n",
        "* SVM\n",
        "* KNN\n",
        "\n",
        "2. Measure Classification Success\n",
        "\n",
        "| Algorithm\t| Accuracy |\n",
        "| --- | ---|\n",
        "| Multinomial Bayes |\t96.07% |\n",
        "| Descision Tree | 43.47% |\n",
        "| SVM | 33.95%|\n",
        "| KNN | 97.14%|\n",
        "\n",
        "3. What regression objectives should we have? Complete your , add to your Data Story \n",
        "4. Run Regressions using various algorithms\n",
        "Check further for Linear and logistic regression on dataset.\n",
        "5. Measure Success of Regressions and\n",
        "Confusion matrix is plotted with algorithms below and sicusses in next section of results.\n",
        "6. Compare Regressions in a table \n",
        "\n",
        "| Algorithm |\tAccuracy |\n",
        "| --- | --- |\n",
        "| Logistic Regression |\t96.94% |\n",
        "| Linear Regression\t| 89.78% |"
      ]
    },
    {
      "cell_type": "markdown",
      "metadata": {
        "id": "_djvktC9jxc4",
        "colab_type": "text"
      },
      "source": [
        "###Data is already divided into train and test in section 5, using 25% of data as test and 75% as train."
      ]
    },
    {
      "cell_type": "code",
      "metadata": {
        "id": "59mSZ2MrkXhK",
        "colab_type": "code",
        "colab": {}
      },
      "source": [
        "accuracies = {}"
      ],
      "execution_count": 0,
      "outputs": []
    },
    {
      "cell_type": "markdown",
      "metadata": {
        "id": "Yy6UfRnlc6yo",
        "colab_type": "text"
      },
      "source": [
        "##Multinomial Bayes\n",
        "* Accuracy_score:0.9600798403193613\n",
        "* Confusion matrix: It is 5X5matrix as we have 5 Labels. The diagonal values shows that for most of the Labels values were predicted correct. Top right corner is mostly 0 which indicates very few \"False positives\""
      ]
    },
    {
      "cell_type": "code",
      "metadata": {
        "id": "_tlxbHE7c-1v",
        "colab_type": "code",
        "colab": {}
      },
      "source": [
        "nb = MultinomialNB(alpha=1)"
      ],
      "execution_count": 0,
      "outputs": []
    },
    {
      "cell_type": "code",
      "metadata": {
        "id": "89dC7WdfdCwH",
        "colab_type": "code",
        "outputId": "40ccceac-c937-47e3-c734-37205e4b29ca",
        "colab": {
          "base_uri": "https://localhost:8080/",
          "height": 68
        }
      },
      "source": [
        "%time nb.fit(X_train_transformed, y_train)"
      ],
      "execution_count": 0,
      "outputs": [
        {
          "output_type": "stream",
          "text": [
            "CPU times: user 11.3 ms, sys: 1.72 ms, total: 13 ms\n",
            "Wall time: 17.3 ms\n"
          ],
          "name": "stdout"
        },
        {
          "output_type": "execute_result",
          "data": {
            "text/plain": [
              "MultinomialNB(alpha=1, class_prior=None, fit_prior=True)"
            ]
          },
          "metadata": {
            "tags": []
          },
          "execution_count": 61
        }
      ]
    },
    {
      "cell_type": "code",
      "metadata": {
        "id": "7EHqCj2-2Nzy",
        "colab_type": "code",
        "outputId": "70f167da-a5de-4aee-8310-fe81c5e91198",
        "colab": {
          "base_uri": "https://localhost:8080/",
          "height": 34
        }
      },
      "source": [
        "y_mnb_pred = nb.predict(X_test_transformed)\n",
        "print(y_mnb_pred)"
      ],
      "execution_count": 0,
      "outputs": [
        {
          "output_type": "stream",
          "text": [
            "[1 2 4 ... 1 1 3]\n"
          ],
          "name": "stdout"
        }
      ]
    },
    {
      "cell_type": "code",
      "metadata": {
        "id": "166570Bq2SIX",
        "colab_type": "code",
        "outputId": "c675c307-aa36-4269-bd93-c8adc0413324",
        "colab": {
          "base_uri": "https://localhost:8080/",
          "height": 34
        }
      },
      "source": [
        "from sklearn.metrics import accuracy_score\n",
        "# Accuracy Score on test dataset\n",
        "accuracy_test = accuracy_score(y_test, y_mnb_pred)\n",
        "accuracies['MultinomialNB'] = accuracy_test\n",
        "print('accuracy_score on test dataset MultinomialNB : ', accuracy_test)"
      ],
      "execution_count": 0,
      "outputs": [
        {
          "output_type": "stream",
          "text": [
            "accuracy_score on test dataset MultinomialNB :  0.9600798403193613\n"
          ],
          "name": "stdout"
        }
      ]
    },
    {
      "cell_type": "code",
      "metadata": {
        "id": "Xqi_AVL7kaW1",
        "colab_type": "code",
        "outputId": "ddc5965f-a200-455e-a747-66a32707685d",
        "colab": {
          "base_uri": "https://localhost:8080/",
          "height": 221
        }
      },
      "source": [
        "print(classification_report(y_test,y_mnb_pred))"
      ],
      "execution_count": 0,
      "outputs": [
        {
          "output_type": "stream",
          "text": [
            "              precision    recall  f1-score   support\n",
            "\n",
            "           1       0.96      1.00      0.98      1412\n",
            "           2       0.99      0.89      0.94       809\n",
            "           3       0.96      0.98      0.97       943\n",
            "           4       0.94      0.98      0.96      1701\n",
            "           5       1.00      0.63      0.77       145\n",
            "\n",
            "    accuracy                           0.96      5010\n",
            "   macro avg       0.97      0.90      0.92      5010\n",
            "weighted avg       0.96      0.96      0.96      5010\n",
            "\n"
          ],
          "name": "stdout"
        }
      ]
    },
    {
      "cell_type": "code",
      "metadata": {
        "id": "vgJNXbENkfKS",
        "colab_type": "code",
        "outputId": "3b2e088f-2d26-48a5-d43f-3f738fc2502f",
        "colab": {
          "base_uri": "https://localhost:8080/",
          "height": 102
        }
      },
      "source": [
        "print(confusion_matrix(y_test,y_mnb_pred))"
      ],
      "execution_count": 0,
      "outputs": [
        {
          "output_type": "stream",
          "text": [
            "[[1412    0    0    0    0]\n",
            " [  27  723   23   36    0]\n",
            " [   2    1  922   18    0]\n",
            " [  21    7   11 1662    0]\n",
            " [   6    1    0   47   91]]\n"
          ],
          "name": "stdout"
        }
      ]
    },
    {
      "cell_type": "markdown",
      "metadata": {
        "id": "6Zx2GDNC3jMg",
        "colab_type": "text"
      },
      "source": [
        "##Descision Tree\n",
        "* Accuracy Score: 0.4347305389221557\n",
        "* COnfusion matrix: shows lot of False positives"
      ]
    },
    {
      "cell_type": "code",
      "metadata": {
        "id": "2Nop8y6-3lsx",
        "colab_type": "code",
        "colab": {}
      },
      "source": [
        "from sklearn.tree import DecisionTreeClassifier, plot_tree\n",
        "%matplotlib inline\n",
        "\n",
        "clf = DecisionTreeClassifier(criterion='entropy', max_depth =2, min_samples_split=2, min_samples_leaf=6)\n",
        "clf.fit(X_train_transformed, y_train)\n",
        "\n",
        "prediction = clf.predict(X_test_transformed)"
      ],
      "execution_count": 0,
      "outputs": []
    },
    {
      "cell_type": "code",
      "metadata": {
        "id": "A6Dcch-23tQF",
        "colab_type": "code",
        "outputId": "c044eeb4-1d76-4de1-b601-bd514afb5f0f",
        "colab": {
          "base_uri": "https://localhost:8080/",
          "height": 34
        }
      },
      "source": [
        "# Accuracy Score on test dataset\n",
        "accuracy_test = accuracy_score(y_test, prediction)\n",
        "accuracies['Descision Tree'] = accuracy_test\n",
        "print('accuracy_score on test dataset : ', accuracy_test)"
      ],
      "execution_count": 0,
      "outputs": [
        {
          "output_type": "stream",
          "text": [
            "accuracy_score on test dataset :  0.4347305389221557\n"
          ],
          "name": "stdout"
        }
      ]
    },
    {
      "cell_type": "code",
      "metadata": {
        "id": "fZIscHNcmRB-",
        "colab_type": "code",
        "outputId": "9096328b-24d9-4d92-cc1d-93f1e1f31d5c",
        "colab": {
          "base_uri": "https://localhost:8080/",
          "height": 275
        }
      },
      "source": [
        "print(classification_report(y_test,prediction))"
      ],
      "execution_count": 0,
      "outputs": [
        {
          "output_type": "stream",
          "text": [
            "              precision    recall  f1-score   support\n",
            "\n",
            "           1       0.86      0.22      0.35      1412\n",
            "           2       0.00      0.00      0.00       809\n",
            "           3       0.56      0.18      0.27       943\n",
            "           4       0.39      1.00      0.56      1701\n",
            "           5       0.00      0.00      0.00       145\n",
            "\n",
            "    accuracy                           0.43      5010\n",
            "   macro avg       0.36      0.28      0.24      5010\n",
            "weighted avg       0.48      0.43      0.34      5010\n",
            "\n"
          ],
          "name": "stdout"
        },
        {
          "output_type": "stream",
          "text": [
            "/usr/local/lib/python3.6/dist-packages/sklearn/metrics/classification.py:1437: UndefinedMetricWarning: Precision and F-score are ill-defined and being set to 0.0 in labels with no predicted samples.\n",
            "  'precision', 'predicted', average, warn_for)\n"
          ],
          "name": "stderr"
        }
      ]
    },
    {
      "cell_type": "code",
      "metadata": {
        "id": "92oo3tVRmTin",
        "colab_type": "code",
        "outputId": "ffb03c43-dd58-438a-a9e3-3b1275437c66",
        "colab": {
          "base_uri": "https://localhost:8080/",
          "height": 102
        }
      },
      "source": [
        "print(confusion_matrix(y_test,prediction))"
      ],
      "execution_count": 0,
      "outputs": [
        {
          "output_type": "stream",
          "text": [
            "[[ 307    0    0 1105    0]\n",
            " [  35    0  131  643    0]\n",
            " [  17    0  170  756    0]\n",
            " [   0    0    0 1701    0]\n",
            " [   0    0    0  145    0]]\n"
          ],
          "name": "stdout"
        }
      ]
    },
    {
      "cell_type": "markdown",
      "metadata": {
        "id": "QyW8BS1_32T4",
        "colab_type": "text"
      },
      "source": [
        "##SVM"
      ]
    },
    {
      "cell_type": "code",
      "metadata": {
        "id": "pzXNTRNG35OZ",
        "colab_type": "code",
        "outputId": "b53c9b9b-0fcd-4a16-97b2-561d73f4bc58",
        "colab": {
          "base_uri": "https://localhost:8080/",
          "height": 292
        }
      },
      "source": [
        "\n",
        "from sklearn.svm import SVC\n",
        "clf = SVC(gamma='auto')\n",
        "clf.fit(X_train_transformed,y_train) \n",
        "prediction = clf.predict(X_test_transformed)\n",
        "\n",
        "# Accuracy Score on test dataset\n",
        "accuracy_test = accuracy_score(y_test, prediction)\n",
        "accuracies['SVM'] = accuracy_test\n",
        "print('accuracy_score on test dataset : ', accuracy_test)\n",
        "\n",
        "print(classification_report(y_test,prediction))\n"
      ],
      "execution_count": 0,
      "outputs": [
        {
          "output_type": "stream",
          "text": [
            "accuracy_score on test dataset :  0.3395209580838323\n",
            "              precision    recall  f1-score   support\n",
            "\n",
            "           1       0.00      0.00      0.00      1412\n",
            "           2       0.00      0.00      0.00       809\n",
            "           3       0.00      0.00      0.00       943\n",
            "           4       0.34      1.00      0.51      1701\n",
            "           5       0.00      0.00      0.00       145\n",
            "\n",
            "    accuracy                           0.34      5010\n",
            "   macro avg       0.07      0.20      0.10      5010\n",
            "weighted avg       0.12      0.34      0.17      5010\n",
            "\n"
          ],
          "name": "stdout"
        },
        {
          "output_type": "stream",
          "text": [
            "/usr/local/lib/python3.6/dist-packages/sklearn/metrics/classification.py:1437: UndefinedMetricWarning: Precision and F-score are ill-defined and being set to 0.0 in labels with no predicted samples.\n",
            "  'precision', 'predicted', average, warn_for)\n"
          ],
          "name": "stderr"
        }
      ]
    },
    {
      "cell_type": "code",
      "metadata": {
        "id": "pAqgiOilnZkZ",
        "colab_type": "code",
        "outputId": "4eb56051-2d4b-46ec-9703-96d0f2aaa1a3",
        "colab": {
          "base_uri": "https://localhost:8080/",
          "height": 102
        }
      },
      "source": [
        "print(confusion_matrix(y_test,prediction))"
      ],
      "execution_count": 0,
      "outputs": [
        {
          "output_type": "stream",
          "text": [
            "[[   0    0    0 1412    0]\n",
            " [   0    0    0  809    0]\n",
            " [   0    0    0  943    0]\n",
            " [   0    0    0 1701    0]\n",
            " [   0    0    0  145    0]]\n"
          ],
          "name": "stdout"
        }
      ]
    },
    {
      "cell_type": "markdown",
      "metadata": {
        "id": "ckW8NoQb4DbP",
        "colab_type": "text"
      },
      "source": [
        "##KNN"
      ]
    },
    {
      "cell_type": "code",
      "metadata": {
        "id": "gxtr0zI14Gl3",
        "colab_type": "code",
        "outputId": "8964e7f2-58ab-43d6-d598-5037ca2a8c64",
        "colab": {
          "base_uri": "https://localhost:8080/",
          "height": 238
        }
      },
      "source": [
        "\n",
        "from sklearn.neighbors import KNeighborsClassifier\n",
        "\n",
        "knn = KNeighborsClassifier(n_neighbors=22)\n",
        "knn.fit(X_train_transformed,y_train)\n",
        "prediction = knn.predict(X_test_transformed)\n",
        "\n",
        "# Accuracy Score on test dataset\n",
        "accuracy_test = accuracy_score(y_test, prediction)\n",
        "accuracies['KNN'] = accuracy_test\n",
        "print('accuracy_score on test dataset : ', accuracy_test)\n",
        "\n",
        "print(classification_report(y_test,prediction))\n"
      ],
      "execution_count": 0,
      "outputs": [
        {
          "output_type": "stream",
          "text": [
            "accuracy_score on test dataset :  0.9714570858283433\n",
            "              precision    recall  f1-score   support\n",
            "\n",
            "           1       1.00      1.00      1.00      1412\n",
            "           2       1.00      0.91      0.95       809\n",
            "           3       1.00      0.97      0.98       943\n",
            "           4       0.92      1.00      0.96      1701\n",
            "           5       0.99      0.75      0.85       145\n",
            "\n",
            "    accuracy                           0.97      5010\n",
            "   macro avg       0.98      0.93      0.95      5010\n",
            "weighted avg       0.97      0.97      0.97      5010\n",
            "\n"
          ],
          "name": "stdout"
        }
      ]
    },
    {
      "cell_type": "code",
      "metadata": {
        "id": "7uyMderZoRug",
        "colab_type": "code",
        "outputId": "07004dad-9c66-4d2d-834c-96aa878e7aa6",
        "colab": {
          "base_uri": "https://localhost:8080/",
          "height": 102
        }
      },
      "source": [
        "print(confusion_matrix(y_test,prediction))"
      ],
      "execution_count": 0,
      "outputs": [
        {
          "output_type": "stream",
          "text": [
            "[[1412    0    0    0    0]\n",
            " [   0  735    0   74    0]\n",
            " [   0    1  911   31    0]\n",
            " [   0    0    0 1700    1]\n",
            " [   0    1    1   34  109]]\n"
          ],
          "name": "stdout"
        }
      ]
    },
    {
      "cell_type": "markdown",
      "metadata": {
        "id": "cbbWzERa4Nm6",
        "colab_type": "text"
      },
      "source": [
        "##Logistic Regression"
      ]
    },
    {
      "cell_type": "code",
      "metadata": {
        "id": "kaMYEq244OrY",
        "colab_type": "code",
        "outputId": "e4e185df-129e-4482-bbf7-a4e12e822ed0",
        "colab": {
          "base_uri": "https://localhost:8080/",
          "height": 105
        }
      },
      "source": [
        "from sklearn.linear_model import LogisticRegression\n",
        "lg=LogisticRegression()\n",
        "lg.fit(X_train_transformed,y_train)\n",
        "prediction=lg.predict(X_test_transformed)"
      ],
      "execution_count": 0,
      "outputs": [
        {
          "output_type": "stream",
          "text": [
            "/usr/local/lib/python3.6/dist-packages/sklearn/linear_model/logistic.py:432: FutureWarning: Default solver will be changed to 'lbfgs' in 0.22. Specify a solver to silence this warning.\n",
            "  FutureWarning)\n",
            "/usr/local/lib/python3.6/dist-packages/sklearn/linear_model/logistic.py:469: FutureWarning: Default multi_class will be changed to 'auto' in 0.22. Specify the multi_class option to silence this warning.\n",
            "  \"this warning.\", FutureWarning)\n"
          ],
          "name": "stderr"
        }
      ]
    },
    {
      "cell_type": "code",
      "metadata": {
        "id": "7QDs0TQ44XhV",
        "colab_type": "code",
        "outputId": "85708329-b0a7-4200-d19f-b986e32704fa",
        "colab": {
          "base_uri": "https://localhost:8080/",
          "height": 34
        }
      },
      "source": [
        "# Accuracy Score on test dataset\n",
        "accuracy_test = accuracy_score(y_test, prediction)\n",
        "accuracies['Logistic Regression'] = accuracy_test\n",
        "print('accuracy_score on test dataset : ', accuracy_test)"
      ],
      "execution_count": 0,
      "outputs": [
        {
          "output_type": "stream",
          "text": [
            "accuracy_score on test dataset :  0.9694610778443113\n"
          ],
          "name": "stdout"
        }
      ]
    },
    {
      "cell_type": "code",
      "metadata": {
        "id": "qdvv9I3T4bRo",
        "colab_type": "code",
        "outputId": "cfd64106-adfb-489d-880c-a4eaf85dba1a",
        "colab": {
          "base_uri": "https://localhost:8080/",
          "height": 221
        }
      },
      "source": [
        "print(classification_report(y_test,prediction))"
      ],
      "execution_count": 0,
      "outputs": [
        {
          "output_type": "stream",
          "text": [
            "              precision    recall  f1-score   support\n",
            "\n",
            "           1       1.00      1.00      1.00      1412\n",
            "           2       1.00      0.90      0.95       809\n",
            "           3       1.00      0.96      0.98       943\n",
            "           4       0.92      1.00      0.96      1701\n",
            "           5       1.00      0.72      0.84       145\n",
            "\n",
            "    accuracy                           0.97      5010\n",
            "   macro avg       0.98      0.92      0.95      5010\n",
            "weighted avg       0.97      0.97      0.97      5010\n",
            "\n"
          ],
          "name": "stdout"
        }
      ]
    },
    {
      "cell_type": "code",
      "metadata": {
        "id": "jdL_ng2Qoeht",
        "colab_type": "code",
        "outputId": "fc072228-c0d2-4ce4-fb5f-308b5e3dc374",
        "colab": {
          "base_uri": "https://localhost:8080/",
          "height": 102
        }
      },
      "source": [
        "print(confusion_matrix(y_test,prediction))"
      ],
      "execution_count": 0,
      "outputs": [
        {
          "output_type": "stream",
          "text": [
            "[[1412    0    0    0    0]\n",
            " [   0  732    0   77    0]\n",
            " [   0    0  907   36    0]\n",
            " [   0    0    0 1701    0]\n",
            " [   0    0    0   40  105]]\n"
          ],
          "name": "stdout"
        }
      ]
    },
    {
      "cell_type": "markdown",
      "metadata": {
        "id": "Txxpveq94doM",
        "colab_type": "text"
      },
      "source": [
        "##Linear Regression"
      ]
    },
    {
      "cell_type": "code",
      "metadata": {
        "id": "gboca9Ij4ecy",
        "colab_type": "code",
        "outputId": "4de32f3c-6eac-4dc2-ae56-a57f6c8c2ada",
        "colab": {
          "base_uri": "https://localhost:8080/",
          "height": 1000
        }
      },
      "source": [
        "regressor = LinearRegression()  \n",
        "regressor.fit(X_train_transformed, y_train)\n",
        "\n",
        "prediction = regressor.predict(X_test_transformed)\n",
        "\n",
        "print(classification_report(y_test,prediction.round()))\n",
        "\n",
        "print(confusion_matrix(y_test,prediction.round()))\n",
        "\n",
        "# Accuracy Score on test dataset\n",
        "accuracy_test = accuracy_score(y_test, prediction.round())\n",
        "accuracies['Linear Regression'] = accuracy_test\n",
        "print('accuracy_score on test dataset : ', accuracy_test)\n",
        "\n",
        "df = pd.DataFrame({'Actual': y_test, 'Predicted': prediction})\n",
        "df1 = df.head(10)\n",
        "df1.plot(kind='bar',figsize=(16,10))\n",
        "plt.grid(which='major', linestyle='-', linewidth='0.5', color='green')\n",
        "plt.grid(which='minor', linestyle=':', linewidth='0.5', color='black')\n",
        "plt.show()"
      ],
      "execution_count": 0,
      "outputs": [
        {
          "output_type": "stream",
          "text": [
            "/usr/local/lib/python3.6/dist-packages/sklearn/metrics/classification.py:1439: UndefinedMetricWarning: Recall and F-score are ill-defined and being set to 0.0 in labels with no true samples.\n",
            "  'recall', 'true', average, warn_for)\n"
          ],
          "name": "stderr"
        },
        {
          "output_type": "stream",
          "text": [
            "              precision    recall  f1-score   support\n",
            "\n",
            "        -1.0       0.00      0.00      0.00         0\n",
            "         0.0       0.00      0.00      0.00         0\n",
            "         1.0       0.97      0.94      0.96      1412\n",
            "         2.0       0.89      0.83      0.86       809\n",
            "         3.0       0.84      0.91      0.87       943\n",
            "         4.0       0.93      0.90      0.92      1701\n",
            "         5.0       0.63      0.66      0.64       145\n",
            "         6.0       0.00      0.00      0.00         0\n",
            "         7.0       0.00      0.00      0.00         0\n",
            "\n",
            "    accuracy                           0.90      5010\n",
            "   macro avg       0.47      0.47      0.47      5010\n",
            "weighted avg       0.91      0.90      0.90      5010\n",
            "\n",
            "[[   0    0    0    0    0    0    0    0    0]\n",
            " [   0    0    0    0    0    0    0    0    0]\n",
            " [   1   36 1330   43    2    0    0    0    0]\n",
            " [   0    0   40  674   45   49    1    0    0]\n",
            " [   0    0    0   42  860   41    0    0    0]\n",
            " [   0    0    0    0  106 1538   56    0    1]\n",
            " [   0    0    0    0   10   32   96    7    0]\n",
            " [   0    0    0    0    0    0    0    0    0]\n",
            " [   0    0    0    0    0    0    0    0    0]]\n",
            "accuracy_score on test dataset :  0.8978043912175648\n"
          ],
          "name": "stdout"
        },
        {
          "output_type": "display_data",
          "data": {
            "image/png": "[encoded data removed]",
            "text/plain": [
              "<Figure size 1152x720 with 1 Axes>"
            ]
          },
          "metadata": {
            "tags": []
          }
        }
      ]
    },
    {
      "cell_type": "markdown",
      "metadata": {
        "id": "T3eob4gU4q2M",
        "colab_type": "text"
      },
      "source": [
        "#8. Metrics and Evaluation\n",
        "\n",
        "The best performnace is by **\"Multinomial Bayes\"** and \"**KNN**\"\n",
        "\n",
        "Discussion around results of Multinomial Bayes:\n",
        "* Accuracy: 96.07%\n",
        "* Confusion matrix: It is 5X5matrix as we have 5 Labels. The diagonal values shows that for most of the Labels values were predicted correct. Top right corner is mostly 0 which indicates very few \"False positives\"\n",
        "\n",
        "|Label1 | Label2 | Lable3 | Lalel4 | Label5|\n",
        "| --- | ---| ---| ---| ---|\n",
        "|1412 |   0 |   0 |   0  |  0|\n",
        "|27 |  723 |   23 |  36 |   0|\n",
        "| 2 |   1 | 922  | 18  |  0 |\n",
        "| 21  |  7  | 11  | 1662  |  0|\n",
        "|6   |  1  |  0 |  47 |  91|"
      ]
    },
    {
      "cell_type": "code",
      "metadata": {
        "id": "Cepfwxpe4sBj",
        "colab_type": "code",
        "outputId": "c7ca70e5-b28a-4b6c-b19c-67b9b54dac3b",
        "colab": {
          "base_uri": "https://localhost:8080/",
          "height": 166
        }
      },
      "source": [
        "from IPython.display import display, HTML\n",
        "table = \"<table><thead><tr><th>Algorithm</th><th>Accuracy</th></tr></thead><tbody>\"\n",
        "#print(\"--- | ---\")\n",
        "for algo, accuracy in accuracies.items():\n",
        "  table+=\"<tr><td>{}</td><td>{}%</td></tr>\".format(algo, accuracy*100)\n",
        "table+=\"</tbody></table>\"\n",
        "display(HTML(table))"
      ],
      "execution_count": 0,
      "outputs": [
        {
          "output_type": "display_data",
          "data": {
            "text/html": [
              "<table><thead><tr><th>Algorithm</th><th>Accuracy</th></tr></thead><tbody><tr><td>MultinomialNB</td><td>96.00798403193613%</td></tr><tr><td>Descision Tree</td><td>43.47305389221557%</td></tr><tr><td>SVM</td><td>33.952095808383234%</td></tr><tr><td>KNN</td><td>97.14570858283433%</td></tr><tr><td>Logistic Regression</td><td>96.94610778443113%</td></tr><tr><td>Linear Regression</td><td>89.78043912175649%</td></tr></tbody></table>"
            ],
            "text/plain": [
              "<IPython.core.display.HTML object>"
            ]
          },
          "metadata": {
            "tags": []
          }
        }
      ]
    }
  ]
}